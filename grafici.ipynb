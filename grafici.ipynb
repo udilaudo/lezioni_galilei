{
  "cells": [
    {
      "cell_type": "markdown",
      "metadata": {
        "colab_type": "text",
        "id": "view-in-github"
      },
      "source": [
        "<a href=\"https://colab.research.google.com/github/udilaudo/lezioni_galilei/blob/main/grafici.ipynb\" target=\"_parent\"><img src=\"https://colab.research.google.com/assets/colab-badge.svg\" alt=\"Open In Colab\"/></a>"
      ]
    },
    {
      "cell_type": "markdown",
      "metadata": {
        "id": "GcjPCBm0RA-P"
      },
      "source": [
        "# In python possiamo fare molti grafici"
      ]
    },
    {
      "cell_type": "markdown",
      "metadata": {
        "id": "UvnbBxfQRIOi"
      },
      "source": [
        "### Iniziamo importando la libreria \"matplotlib\""
      ]
    },
    {
      "cell_type": "code",
      "execution_count": null,
      "metadata": {
        "id": "j3pLwQKmHQ4f"
      },
      "outputs": [],
      "source": [
        "from matplotlib import pyplot as plt"
      ]
    },
    {
      "cell_type": "markdown",
      "metadata": {
        "id": "NwY7vVATRcqO"
      },
      "source": [
        "### Facciamo un \"grafico a barre\" sulle frequenze dei colori dei capelli"
      ]
    },
    {
      "cell_type": "code",
      "execution_count": null,
      "metadata": {},
      "outputs": [],
      "source": [
        "# inserisco i dati\n",
        "capelli = [\"castani\", \"biondi\", \"rossi\", \"neri\"]\n",
        "vettore_frequenze = [50, 23, 13, 34]\n",
        "\n",
        "# creo il grafico\n",
        "plt.bar(capelli, vettore_frequenze, color=[\"brown\", \"black\", \"red\", \"yellow\"])"
      ]
    },
    {
      "cell_type": "markdown",
      "metadata": {},
      "source": [
        "Aggiungiamo il titolo all'immagine"
      ]
    },
    {
      "cell_type": "code",
      "execution_count": null,
      "metadata": {
        "colab": {
          "base_uri": "https://localhost:8080/",
          "height": 452
        },
        "id": "O2vZogpFHiy6",
        "outputId": "e341c11e-4a26-40d3-bf64-8ecec6fd5886"
      },
      "outputs": [],
      "source": [
        "# inserisco i dati\n",
        "capelli = [\"castani\", \"biondi\", \"rossi\", \"neri\"]\n",
        "vettore_frequenze = [50, 23, 13, 34]\n",
        "\n",
        "# creo il grafico\n",
        "plt.bar(capelli, vettore_frequenze, color=[\"brown\", \"black\", \"red\", \"yellow\"])\n",
        "\n",
        "# do un titolo al grafico\n",
        "plt.title(\"distribuzione discreta colore capelli\")"
      ]
    },
    {
      "cell_type": "markdown",
      "metadata": {
        "id": "O-hL8dMnR65j"
      },
      "source": [
        "Possiamo utilizzare questo tipo di grafici per molte altre cose..."
      ]
    },
    {
      "cell_type": "code",
      "execution_count": null,
      "metadata": {
        "colab": {
          "base_uri": "https://localhost:8080/",
          "height": 448
        },
        "id": "nnCs9oWSSWcg",
        "outputId": "25ffe9be-2a5c-4432-fed4-2a318c85812a"
      },
      "outputs": [],
      "source": [
        "# Dati di esempio\n",
        "sport_preferito = [\n",
        "    \"Calcio\",\n",
        "    \"Basket\",\n",
        "    \"Videogiochi\",\n",
        "    \"Fitness\",\n",
        "    \"Ciclismo\",\n",
        "    \"Pallavolo\",\n",
        "]\n",
        "frequenza_sport = [70, 45, 90, 30, 20, 42]  # Frequenza\n",
        "\n",
        "plt.bar(sport_preferito, frequenza_sport, color=\"purple\", alpha=0.7)"
      ]
    },
    {
      "cell_type": "code",
      "execution_count": null,
      "metadata": {
        "colab": {
          "base_uri": "https://localhost:8080/",
          "height": 448
        },
        "id": "XXKMTYUnS54D",
        "outputId": "eec958d4-5c06-49b8-a98c-1e949e89f012"
      },
      "outputs": [],
      "source": [
        "social_media = [\"Instagram\", \"TikTok\", \"Snapchat\", \"Twitter\", \"YouTube\"]\n",
        "frequenza_social_media = [40, 30, 15, 10, 5]  # Percentuale di utilizzo\n",
        "\n",
        "plt.bar(social_media, frequenza_social_media, color=\"salmon\")"
      ]
    },
    {
      "cell_type": "code",
      "execution_count": null,
      "metadata": {
        "colab": {
          "base_uri": "https://localhost:8080/",
          "height": 448
        },
        "id": "zLQ8Z1g5IgwC",
        "outputId": "df2c5fb3-6cb0-40d4-8863-6b390656ef6a"
      },
      "outputs": [],
      "source": [
        "persone = [\"Maria\", \"Francesco\", \"Sara\", \"Andrea\", \"Laura\"]\n",
        "voti_esame = [9, 6, 8, 5, 3]\n",
        "\n",
        "plt.bar(persone, voti_esame, color=\"lightblue\")"
      ]
    },
    {
      "cell_type": "markdown",
      "metadata": {},
      "source": [
        "Cosa c'è di diverso?"
      ]
    },
    {
      "cell_type": "markdown",
      "metadata": {},
      "source": [
        "Facciamo un grafico a barre sulla musica più ascolata.\n",
        "Con le funzioni plt.xlabel() e plt.ylabel() possiamo scrivere il contenuto degli assi"
      ]
    },
    {
      "cell_type": "code",
      "execution_count": null,
      "metadata": {
        "colab": {
          "base_uri": "https://localhost:8080/",
          "height": 490
        },
        "id": "MKETMCvNJRgz",
        "outputId": "4c5f1769-90bd-4af3-d582-5511a883a1d2"
      },
      "outputs": [],
      "source": [
        "generi = [\"Hip Hop\", \"Pop\", \"Rock\", \"Dance\", \"House\", \"Blues\", \"Jazz\", \"Classica\"]\n",
        "numeri_persone = [300, 280, 150, 70, 65, 55, 50, 30]\n",
        "frequenze_relative = [0.3, 0.28, 0.15, 0.07, 0.065, 0.055, 0.05, 0.03]\n",
        "\n",
        "plt.bar(\n",
        "    generi,\n",
        "    numeri_persone,\n",
        "    color=[\n",
        "        \"skyblue\",\n",
        "        \"lightcoral\",\n",
        "        \"lightgreen\",\n",
        "        \"yellow\",\n",
        "        \"orange\",\n",
        "        \"purple\",\n",
        "        \"red\",\n",
        "        \"green\",\n",
        "    ],\n",
        ")\n",
        "\n",
        "plt.xlabel(\"Genere musicale\")\n",
        "plt.ylabel(\"Numero di persone\")\n",
        "plt.title(\"Istogramma\")"
      ]
    },
    {
      "cell_type": "markdown",
      "metadata": {},
      "source": [
        "Possiamo fare un grafico a torta"
      ]
    },
    {
      "cell_type": "code",
      "execution_count": null,
      "metadata": {
        "colab": {
          "base_uri": "https://localhost:8080/",
          "height": 446
        },
        "id": "7QbdciAyxTVr",
        "outputId": "0e69edf0-c582-4e2b-c7ec-fe49847cf88d"
      },
      "outputs": [],
      "source": [
        "plt.pie(numeri_persone, labels=generi, autopct=\"%1.1f%%\")\n",
        "plt.title(\"Distribuzione di Frequenza Percentuale delle Preferenze di Genere Musicale\")"
      ]
    },
    {
      "cell_type": "markdown",
      "metadata": {},
      "source": [
        "Grafico a barre delle altezze di donne e uomini con frequenze assolute"
      ]
    },
    {
      "cell_type": "code",
      "execution_count": null,
      "metadata": {
        "colab": {
          "base_uri": "https://localhost:8080/",
          "height": 540
        },
        "id": "6YnLKo0hy2DH",
        "outputId": "719fb904-a966-42a3-95c5-78dc00c9c5a4"
      },
      "outputs": [],
      "source": [
        "fascie_altezza = [\n",
        "    \"140-145\",\n",
        "    \"145-150\",\n",
        "    \"150-155\",\n",
        "    \"155-160\",\n",
        "    \"160-165\",\n",
        "    \"165-170\",\n",
        "    \"170-175\",\n",
        "    \"175-180\",\n",
        "    \"180-185\",\n",
        "    \"185-190\",\n",
        "    \"190-195\",\n",
        "]\n",
        "\n",
        "altezza_uomini = [2, 7, 20, 47, 91, 160, 173, 201, 150, 100, 50]\n",
        "fr_relativa_uomini = [0.0, 0.01, 0.02, 0.05, 0.09, 0.16, 0.17, 0.2, 0.15, 0.1, 0.05]\n",
        "\n",
        "\n",
        "altezza_donne = [50, 145, 248, 330, 380, 337, 243, 145, 62, 20, 7]\n",
        "fr_relativa_donne = [0.03, 0.07, 0.13, 0.17, 0.19, 0.17, 0.12, 0.07, 0.03, 0.01, 0.0]"
      ]
    },
    {
      "cell_type": "code",
      "execution_count": null,
      "metadata": {},
      "outputs": [],
      "source": [
        "# Dimensioni della figura\n",
        "plt.figure(figsize=(10, 6))\n",
        "\n",
        "# Disegnamo i grafici a barre\n",
        "plt.bar(fascie_altezza, altezza_uomini, color=\"blue\", label=\"uomini\", alpha=0.3)\n",
        "plt.bar(fascie_altezza, altezza_donne, color=\"red\", label=\"donne\", alpha=0.3)\n",
        "\n",
        "plt.legend()"
      ]
    },
    {
      "cell_type": "markdown",
      "metadata": {},
      "source": [
        "plt.legend() fa apparire un riquadro con la legenda sul grafico"
      ]
    },
    {
      "cell_type": "markdown",
      "metadata": {},
      "source": [
        "Consideriamo ora le frequenze relative"
      ]
    },
    {
      "cell_type": "code",
      "execution_count": null,
      "metadata": {
        "colab": {
          "base_uri": "https://localhost:8080/",
          "height": 582
        },
        "id": "KPWVSyBQ3GJq",
        "outputId": "27f13cdf-8117-4c96-e420-2b1441894a1e"
      },
      "outputs": [],
      "source": [
        "plt.figure(figsize=(10, 6))\n",
        "\n",
        "# Disegnamo i grafici a barre\n",
        "plt.bar(fascie_altezza, fr_relativa_uomini, color=\"blue\", label=\"uomini\", alpha=0.3)\n",
        "plt.bar(fascie_altezza, fr_relativa_donne, color=\"red\", label=\"donne\", alpha=0.3)\n",
        "\n",
        "# scritte varie sull'immagine (opzionali)\n",
        "\n",
        "plt.title(\"Grafico a barre altezza uomini e donne\")\n",
        "plt.xlabel(\"fascie altezza\")\n",
        "plt.ylabel(\"frequenza relativa\")\n",
        "\n",
        "plt.legend()"
      ]
    },
    {
      "cell_type": "markdown",
      "metadata": {
        "id": "tjQND-uh6ivd"
      },
      "source": [
        "### Sapreste dire la differenza?"
      ]
    },
    {
      "cell_type": "markdown",
      "metadata": {
        "id": "ECBlHZ0q7W4C"
      },
      "source": [
        "## Proviamo a fare un grafico dei gol dei primi 10 marcatori di serie A 2023/2024"
      ]
    },
    {
      "cell_type": "code",
      "execution_count": null,
      "metadata": {
        "id": "ZTrPdNgP5y7Z"
      },
      "outputs": [],
      "source": [
        "# Scrivi qui il codice dell'esercizio"
      ]
    },
    {
      "cell_type": "markdown",
      "metadata": {},
      "source": [
        "# Istogrammi"
      ]
    },
    {
      "cell_type": "markdown",
      "metadata": {},
      "source": [
        "L'istogramma è simile al grafico a barre, ma si usa per variabili continue"
      ]
    },
    {
      "cell_type": "markdown",
      "metadata": {},
      "source": [
        "Generiamo i dati in maniera casuale"
      ]
    },
    {
      "cell_type": "code",
      "execution_count": null,
      "metadata": {},
      "outputs": [],
      "source": [
        "import numpy as np\n",
        "\n",
        "# Genera dati casuali per le altezze di uomini e donne\n",
        "battiti_cuore = np.random.normal(loc=70, scale=3, size=100)\n",
        "\n",
        "battiti_cuore"
      ]
    },
    {
      "cell_type": "code",
      "execution_count": null,
      "metadata": {},
      "outputs": [],
      "source": [
        "plt.figure(figsize=(8, 5))\n",
        "# Crea gli istogrammi\n",
        "plt.hist(battiti_cuore, bins=15, alpha=0.6, label=\"Battiti a riposo\")\n",
        "\n",
        "# Aggiungi titoli e etichette\n",
        "plt.title(\"Distribuzione dei battiti a riposo\")\n",
        "plt.xlabel(\"Battiti al minuto\")\n",
        "plt.ylabel(\"Frequenza Assoluta\")\n",
        "\n",
        "# Aggiungi legenda\n",
        "plt.legend()"
      ]
    },
    {
      "cell_type": "markdown",
      "metadata": {},
      "source": [
        "Aggiungiamo una linea verticale sul valore della media"
      ]
    },
    {
      "cell_type": "code",
      "execution_count": null,
      "metadata": {},
      "outputs": [],
      "source": [
        "# Crea gli istogrammi\n",
        "plt.hist(battiti_cuore, bins=15, alpha=0.6, label=\"Battiti a riposo\")\n",
        "\n",
        "# Aggiungi titoli e etichette\n",
        "plt.title(\"Distribuzione dei battiti a riposo\")\n",
        "plt.xlabel(\"Battiti al minuto\")\n",
        "plt.ylabel(\"Frequenza Assoluta\")\n",
        "\n",
        "plt.axvline(x=70, color=\"red\", label=\"Media\")\n",
        "\n",
        "# Aggiungi legenda\n",
        "plt.legend()"
      ]
    },
    {
      "cell_type": "code",
      "execution_count": null,
      "metadata": {},
      "outputs": [],
      "source": []
    }
  ],
  "metadata": {
    "colab": {
      "provenance": []
    },
    "kernelspec": {
      "display_name": "Python 3",
      "name": "python3"
    },
    "language_info": {
      "codemirror_mode": {
        "name": "ipython",
        "version": 3
      },
      "file_extension": ".py",
      "mimetype": "text/x-python",
      "name": "python",
      "nbconvert_exporter": "python",
      "pygments_lexer": "ipython3",
      "version": "3.10.9"
    }
  },
  "nbformat": 4,
  "nbformat_minor": 0
}
