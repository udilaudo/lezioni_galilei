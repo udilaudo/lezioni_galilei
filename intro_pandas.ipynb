{
  "cells": [
    {
      "cell_type": "markdown",
      "metadata": {
        "colab_type": "text",
        "id": "view-in-github"
      },
      "source": [
        "<a href=\"https://colab.research.google.com/github/udilaudo/lezioni_galilei/blob/main/intro_pandas.ipynb\" target=\"_parent\"><img src=\"https://colab.research.google.com/assets/colab-badge.svg\" alt=\"Open In Colab\"/></a>"
      ]
    },
    {
      "cell_type": "markdown",
      "metadata": {
        "id": "Gb2eRzqLimWo"
      },
      "source": [
        "# Cos'è Pandas?"
      ]
    },
    {
      "cell_type": "markdown",
      "metadata": {
        "id": "bNv9IXiElOSw"
      },
      "source": [
        "_pandas_ è una libreria Python per fare analisi dei dati.\n",
        "\n",
        "Pandas introduce due strutture dati:\n",
        "- **Series**: una lista di dati con un indice.\n",
        "- **Data frame**: una tabella formata da diverse colonne (Series), ognuna con un nome."
      ]
    },
    {
      "cell_type": "markdown",
      "metadata": {
        "id": "jnomJvoXlTng"
      },
      "source": [
        "Pandas è una libreria di programmazione in Python che rende più semplice lavorare con dati. Ti aiuta a organizzare informazioni, come nomi, età, canzoni, giocatori, in modo che tu possa analizzarle più facilmente."
      ]
    },
    {
      "cell_type": "markdown",
      "metadata": {
        "id": "1Vdc0E6GirQ0"
      },
      "source": [
        "Importiamo la libreria"
      ]
    },
    {
      "cell_type": "code",
      "execution_count": null,
      "metadata": {
        "id": "b5Dulpc2ifM5"
      },
      "outputs": [],
      "source": [
        "import pandas as pd"
      ]
    },
    {
      "cell_type": "markdown",
      "metadata": {
        "id": "9GfHN9Gciuzn"
      },
      "source": [
        "Definiamo una serie di dati su persone"
      ]
    },
    {
      "cell_type": "code",
      "execution_count": null,
      "metadata": {
        "id": "FNKOQhoAis5V"
      },
      "outputs": [],
      "source": [
        "nome = [\n",
        "    \"Alessandro\",\n",
        "    \"Beatrice\",\n",
        "    \"Cristian\",\n",
        "    \"Davide\",\n",
        "    \"Elena\",\n",
        "    \"Federico\",\n",
        "    \"Giulia\",\n",
        "    \"Luca\",\n",
        "    \"Martina\",\n",
        "    \"Nicola\",\n",
        "    \"Roberta\",\n",
        "    \"Stefano\",\n",
        "    \"Valentina\",\n",
        "    \"Andrea\",\n",
        "    \"Chiara\",\n",
        "    \"Emanuele\",\n",
        "    \"Francesca\",\n",
        "    \"Giovanni\",\n",
        "    \"Laura\",\n",
        "    \"Marco\",\n",
        "]\n",
        "\n",
        "cognome = [\n",
        "    \"Rossi\",\n",
        "    \"Bianchi\",\n",
        "    \"Ferrari\",\n",
        "    \"Russo\",\n",
        "    \"Esposito\",\n",
        "    \"Colombo\",\n",
        "    \"Conti\",\n",
        "    \"Marchetti\",\n",
        "    \"De Luca\",\n",
        "    \"Marino\",\n",
        "    \"Greco\",\n",
        "    \"Moretti\",\n",
        "    \"Barbieri\",\n",
        "    \"Fontana\",\n",
        "    \"Ricci\",\n",
        "    \"Mariani\",\n",
        "    \"Rizzo\",\n",
        "    \"De Santis\",\n",
        "    \"Ferrara\",\n",
        "    \"Bruno\",\n",
        "]\n",
        "\n",
        "altezza = [\n",
        "    1.82,\n",
        "    1.65,\n",
        "    1.75,\n",
        "    1.78,\n",
        "    1.65,\n",
        "    1.82,\n",
        "    1.65,\n",
        "    1.75,\n",
        "    1.78,\n",
        "    1.65,\n",
        "    1.82,\n",
        "    1.65,\n",
        "    1.75,\n",
        "    1.78,\n",
        "    1.65,\n",
        "    1.82,\n",
        "    1.65,\n",
        "    1.75,\n",
        "    1.78,\n",
        "    1.65,\n",
        "]\n",
        "\n",
        "eta = [19, 17, 14, 15, 18, 14, 14, 19, 18, 18, 17, 15, 16, 15, 16, 16, 14, 14, 19, 19]\n",
        "\n",
        "capelli = [\n",
        "    \"castani\",\n",
        "    \"neri\",\n",
        "    \"castani\",\n",
        "    \"neri\",\n",
        "    \"rossi\",\n",
        "    \"neri\",\n",
        "    \"neri\",\n",
        "    \"castani\",\n",
        "    \"rossi\",\n",
        "    \"neri\",\n",
        "    \"castani\",\n",
        "    \"biondi\",\n",
        "    \"neri\",\n",
        "    \"biondi\",\n",
        "    \"castani\",\n",
        "    \"biondi\",\n",
        "    \"castani\",\n",
        "    \"castani\",\n",
        "    \"rossi\",\n",
        "    \"neri\",\n",
        "]\n",
        "\n",
        "media_voti = [\n",
        "    8.09,\n",
        "    6.49,\n",
        "    8.96,\n",
        "    7.71,\n",
        "    7.95,\n",
        "    6.98,\n",
        "    6.78,\n",
        "    8.82,\n",
        "    7.37,\n",
        "    6.23,\n",
        "    6.93,\n",
        "    6.56,\n",
        "    9.89,\n",
        "    6.48,\n",
        "    9.04,\n",
        "    7.61,\n",
        "    8.73,\n",
        "    6.43,\n",
        "    9.87,\n",
        "    7.41,\n",
        "]"
      ]
    },
    {
      "cell_type": "markdown",
      "metadata": {
        "id": "VXwnZ40djC0H"
      },
      "source": [
        "Crea il DataFrame (la tabella dei dati)"
      ]
    },
    {
      "cell_type": "code",
      "execution_count": null,
      "metadata": {
        "id": "JiuwFsHTjBbA"
      },
      "outputs": [],
      "source": [
        "dati = pd.DataFrame(\n",
        "    {\n",
        "        \"nome\": nome,\n",
        "        \"cognome\": cognome,\n",
        "        \"altezza\": altezza,\n",
        "        \"capelli\": capelli,\n",
        "        \"eta\": eta,\n",
        "        \"media_voti\": media_voti,\n",
        "    }\n",
        ")"
      ]
    },
    {
      "cell_type": "markdown",
      "metadata": {
        "id": "oEMbbzGqjJZr"
      },
      "source": [
        "### Il nostro DataFrame:"
      ]
    },
    {
      "cell_type": "code",
      "execution_count": null,
      "metadata": {
        "colab": {
          "base_uri": "https://localhost:8080/",
          "height": 676
        },
        "id": "qDzhFSSDjH0m",
        "outputId": "acdd8be5-faff-4d46-b2fa-c651ceed9def"
      },
      "outputs": [],
      "source": [
        "dati"
      ]
    },
    {
      "cell_type": "markdown",
      "metadata": {},
      "source": [
        "Guarda i nomi delle colonne:"
      ]
    },
    {
      "cell_type": "code",
      "execution_count": null,
      "metadata": {},
      "outputs": [],
      "source": [
        "dati.columns"
      ]
    },
    {
      "cell_type": "markdown",
      "metadata": {
        "id": "72DiffH0k1_f"
      },
      "source": [
        "## Puoi vedere solo la parte iniziale del DataFrame"
      ]
    },
    {
      "cell_type": "code",
      "execution_count": null,
      "metadata": {
        "colab": {
          "base_uri": "https://localhost:8080/",
          "height": 206
        },
        "id": "elmJozrEjMYV",
        "outputId": "7161d4b5-ffdc-48a5-c121-8431cf5194a3"
      },
      "outputs": [],
      "source": [
        "dati.head()"
      ]
    },
    {
      "cell_type": "markdown",
      "metadata": {
        "id": "Y33OY1FZjO2C"
      },
      "source": [
        "### Pandas può aiutarti a guardare, ordinare e giocare con i tuoi dati. Ti permette di vedere e capire meglio le informazioni."
      ]
    },
    {
      "cell_type": "markdown",
      "metadata": {
        "id": "TAYZ1Ds1jP5u"
      },
      "source": [
        "Puoi chiedere a Pandas di mostrarti solo alcune informazioni:"
      ]
    },
    {
      "cell_type": "code",
      "execution_count": null,
      "metadata": {
        "colab": {
          "base_uri": "https://localhost:8080/",
          "height": 676
        },
        "id": "KUJJFRmdjQ3H",
        "outputId": "419a7f4f-3041-4e2f-9b4d-824dc7a799ca"
      },
      "outputs": [],
      "source": [
        "dati[[\"nome\"]]"
      ]
    },
    {
      "cell_type": "code",
      "execution_count": null,
      "metadata": {
        "colab": {
          "base_uri": "https://localhost:8080/",
          "height": 676
        },
        "id": "8ZaSNSVcjR4X",
        "outputId": "43f39765-84c7-4835-b1b0-19f7b0fcd034"
      },
      "outputs": [],
      "source": [
        "dati[[\"altezza\"]]"
      ]
    },
    {
      "cell_type": "code",
      "execution_count": null,
      "metadata": {
        "colab": {
          "base_uri": "https://localhost:8080/",
          "height": 676
        },
        "id": "p-AxioUVjTAJ",
        "outputId": "f6607e4e-5869-46c0-c796-80f6d326bcfb"
      },
      "outputs": [],
      "source": [
        "dati[[\"altezza\", \"capelli\"]]"
      ]
    },
    {
      "cell_type": "markdown",
      "metadata": {
        "id": "vnkj9V1MjUL2"
      },
      "source": [
        "Scrivi un codice per mostrare solamente il \"nome\", \"cognome\" e la \"media voti\""
      ]
    },
    {
      "cell_type": "code",
      "execution_count": null,
      "metadata": {
        "id": "vgZjbRt5jVnV"
      },
      "outputs": [],
      "source": [
        "# scrivi qui giu' il codice per risolvere l'esercizio 1"
      ]
    },
    {
      "cell_type": "markdown",
      "metadata": {
        "id": "KSBPXaGOjXj7"
      },
      "source": [
        "### Manipoliamo questa tabella"
      ]
    },
    {
      "cell_type": "markdown",
      "metadata": {
        "id": "jleDHQCBjazq"
      },
      "source": [
        "Vediamo la riga di \"Andrea\""
      ]
    },
    {
      "cell_type": "code",
      "execution_count": null,
      "metadata": {
        "colab": {
          "base_uri": "https://localhost:8080/",
          "height": 80
        },
        "id": "wFrcwx0WjaJn",
        "outputId": "d7c1ac61-ac25-4bab-d6bb-ba57c4a795f6"
      },
      "outputs": [],
      "source": [
        "dati[dati[\"nome\"] == \"Andrea\"]"
      ]
    },
    {
      "cell_type": "markdown",
      "metadata": {},
      "source": [
        "Chi ha i capelli rossi?"
      ]
    },
    {
      "cell_type": "code",
      "execution_count": null,
      "metadata": {
        "colab": {
          "base_uri": "https://localhost:8080/",
          "height": 143
        },
        "id": "kt78LsVAjXUB",
        "outputId": "f88ebcb7-17e6-4e72-e407-0a8edcab307a"
      },
      "outputs": [],
      "source": [
        "dati[dati[\"capelli\"] == \"rossi\"]"
      ]
    },
    {
      "cell_type": "markdown",
      "metadata": {},
      "source": [
        "Chi è maggiorenne?"
      ]
    },
    {
      "cell_type": "code",
      "execution_count": null,
      "metadata": {
        "colab": {
          "base_uri": "https://localhost:8080/",
          "height": 174
        },
        "id": "BzkuAFwYjefW",
        "outputId": "92b7a67c-59aa-45a1-fa9b-bf4469843a64"
      },
      "outputs": [],
      "source": [
        "dati[dati[\"eta\"] >= 18]"
      ]
    },
    {
      "cell_type": "markdown",
      "metadata": {},
      "source": [
        "Scrivi un codice per scoprire chi ha la media superiore a 8.5"
      ]
    },
    {
      "cell_type": "code",
      "execution_count": null,
      "metadata": {},
      "outputs": [],
      "source": [
        "# Scrivi qui il codice per risolvere l'esercizio 2"
      ]
    },
    {
      "cell_type": "markdown",
      "metadata": {},
      "source": [
        "Selezioniamo una riga dalla sua posizione"
      ]
    },
    {
      "cell_type": "markdown",
      "metadata": {},
      "source": [
        "Selezioniamo la prima riga"
      ]
    },
    {
      "cell_type": "code",
      "execution_count": null,
      "metadata": {},
      "outputs": [],
      "source": [
        "dati.loc[0]"
      ]
    },
    {
      "cell_type": "code",
      "execution_count": null,
      "metadata": {},
      "outputs": [],
      "source": [
        "dati.loc[0, [\"eta\"]]"
      ]
    },
    {
      "cell_type": "markdown",
      "metadata": {},
      "source": [
        "Seleziniamo le righe dalla quarta alla sesta"
      ]
    },
    {
      "cell_type": "code",
      "execution_count": null,
      "metadata": {},
      "outputs": [],
      "source": [
        "dati.loc[3:5]"
      ]
    },
    {
      "cell_type": "markdown",
      "metadata": {
        "id": "ALjOOyB7jfpc"
      },
      "source": [
        "Scrivi un codice per vedere quanto è alto il settimo ragazzo del dataframe"
      ]
    },
    {
      "cell_type": "code",
      "execution_count": null,
      "metadata": {
        "id": "jf8Tn6BPjg7b"
      },
      "outputs": [],
      "source": [
        "# Scrivi qui il codice per risolvere l'esercizio 3"
      ]
    },
    {
      "cell_type": "markdown",
      "metadata": {
        "id": "k3egi3SCjjob"
      },
      "source": [
        "### Proviamo a trovarci qualche statistica (media, moda...)"
      ]
    },
    {
      "cell_type": "code",
      "execution_count": null,
      "metadata": {
        "id": "_3eI2T-0jkXS"
      },
      "outputs": [],
      "source": [
        "dati[\"media_voti\"].mean()"
      ]
    },
    {
      "cell_type": "code",
      "execution_count": null,
      "metadata": {
        "colab": {
          "base_uri": "https://localhost:8080/"
        },
        "id": "97fyX1aEnMHZ",
        "outputId": "d24e1d10-a591-43ce-fc38-060d0c7464ab"
      },
      "outputs": [],
      "source": [
        "dati[\"media_voti\"].median()"
      ]
    },
    {
      "cell_type": "code",
      "execution_count": null,
      "metadata": {
        "id": "x1j8JeVpjlRO"
      },
      "outputs": [],
      "source": [
        "dati[\"media_voti\"].min()"
      ]
    },
    {
      "cell_type": "code",
      "execution_count": null,
      "metadata": {
        "id": "wgCFKwq6jmBF"
      },
      "outputs": [],
      "source": [
        "dati[\"eta\"].mean()"
      ]
    },
    {
      "cell_type": "code",
      "execution_count": null,
      "metadata": {},
      "outputs": [],
      "source": [
        "dati[\"eta\"].median()"
      ]
    },
    {
      "cell_type": "code",
      "execution_count": null,
      "metadata": {
        "id": "jSWqbjLmjmrl"
      },
      "outputs": [],
      "source": [
        "dati[\"eta\"].max()"
      ]
    },
    {
      "cell_type": "markdown",
      "metadata": {
        "id": "JbT9TRnbjn2L"
      },
      "source": [
        "### Scrivi un codice per mostrare l'altezza media e l'altezza massima"
      ]
    },
    {
      "cell_type": "code",
      "execution_count": null,
      "metadata": {
        "id": "UWGlkiMmjpI3"
      },
      "outputs": [],
      "source": [
        "# Scrivi qui il codice per risolvere l'esercizio 3"
      ]
    },
    {
      "cell_type": "markdown",
      "metadata": {
        "id": "hcl6cWk3jqxl"
      },
      "source": [
        "### Proviamo a fare la media dei nomi. Ha senso?"
      ]
    },
    {
      "cell_type": "code",
      "execution_count": null,
      "metadata": {
        "id": "8OJ8fmFPjrx1"
      },
      "outputs": [],
      "source": [
        "dati[\"nome\"].mean()"
      ]
    },
    {
      "cell_type": "markdown",
      "metadata": {
        "id": "pgaej55pjtNv"
      },
      "source": [
        "### Tutte queste informazioni possiamo trovarle tutte usando la funzione \"describe()\""
      ]
    },
    {
      "cell_type": "code",
      "execution_count": null,
      "metadata": {
        "id": "qONd1JAFjs9Q"
      },
      "outputs": [],
      "source": [
        "dati.describe()"
      ]
    },
    {
      "cell_type": "markdown",
      "metadata": {},
      "source": [
        "### Proviamo a modificare la nostra tabella"
      ]
    },
    {
      "cell_type": "markdown",
      "metadata": {},
      "source": [
        "Proviamo a rinominare una colonna:"
      ]
    },
    {
      "cell_type": "code",
      "execution_count": null,
      "metadata": {},
      "outputs": [],
      "source": [
        "dati = dati.rename(columns={\"capelli\": \"colore capelli\"})"
      ]
    },
    {
      "cell_type": "code",
      "execution_count": null,
      "metadata": {},
      "outputs": [],
      "source": [
        "dati"
      ]
    },
    {
      "cell_type": "markdown",
      "metadata": {
        "id": "8X05dSfqjw7R"
      },
      "source": [
        "Aggiungiamo una colonna per il colore degli occhi"
      ]
    },
    {
      "cell_type": "code",
      "execution_count": null,
      "metadata": {
        "id": "DJ3FuS7ajyDw"
      },
      "outputs": [],
      "source": [
        "dati[\"occhi\"] = [\n",
        "    \"neri\",\n",
        "    \"azzurri\",\n",
        "    \"marroni\",\n",
        "    \"azzurri\",\n",
        "    \"marroni\",\n",
        "    \"marroni\",\n",
        "    \"verdi\",\n",
        "    \"marroni\",\n",
        "    \"marroni\",\n",
        "    \"marroni\",\n",
        "    \"verdi\",\n",
        "    \"neri\",\n",
        "    \"neri\",\n",
        "    \"verdi\",\n",
        "    \"verdi\",\n",
        "    \"neri\",\n",
        "    \"azzurri\",\n",
        "    \"verdi\",\n",
        "    \"marroni\",\n",
        "    \"neri\",\n",
        "]"
      ]
    },
    {
      "cell_type": "markdown",
      "metadata": {
        "id": "uQIOkLbjj0Pi"
      },
      "source": [
        "Controlliamo se è stata inserita"
      ]
    },
    {
      "cell_type": "code",
      "execution_count": null,
      "metadata": {
        "id": "57Ir3q6Ojzq_"
      },
      "outputs": [],
      "source": [
        "dati.head()"
      ]
    },
    {
      "cell_type": "markdown",
      "metadata": {
        "id": "TTgncSw8j3-W"
      },
      "source": [
        "Eliminiamo la colonna dei capelli"
      ]
    },
    {
      "cell_type": "code",
      "execution_count": null,
      "metadata": {
        "id": "oFmzndd8EfcG"
      },
      "outputs": [],
      "source": [
        "dati.drop(columns=[\"capelli\"], inplace=True)dati.head()"
      ]
    },
    {
      "cell_type": "code",
      "execution_count": null,
      "metadata": {},
      "outputs": [],
      "source": [
        "dati.drop(columns=[\"colore capelli\"], inplace=True)"
      ]
    },
    {
      "cell_type": "markdown",
      "metadata": {},
      "source": [
        "Verifichiamo"
      ]
    },
    {
      "cell_type": "code",
      "execution_count": null,
      "metadata": {},
      "outputs": [],
      "source": [
        "dati.head()"
      ]
    },
    {
      "cell_type": "markdown",
      "metadata": {
        "id": "3MJtKXIUnC__"
      },
      "source": [
        "## Modifichiamo qualche valore"
      ]
    },
    {
      "cell_type": "code",
      "execution_count": null,
      "metadata": {
        "colab": {
          "base_uri": "https://localhost:8080/",
          "height": 676
        },
        "id": "voBGfTyonINv",
        "outputId": "d31246d7-563b-48fe-e521-f8af03d8a597"
      },
      "outputs": [],
      "source": [
        "dati"
      ]
    },
    {
      "cell_type": "markdown",
      "metadata": {},
      "source": [
        "Cambiamo il valore dell'età del primo ragazzo"
      ]
    },
    {
      "cell_type": "code",
      "execution_count": null,
      "metadata": {
        "id": "sE9ByNr5nCZH"
      },
      "outputs": [],
      "source": [
        "dati[\"eta\"][0] = 20"
      ]
    },
    {
      "cell_type": "markdown",
      "metadata": {},
      "source": [
        "Controlliamo che lo abbia cambiato"
      ]
    },
    {
      "cell_type": "code",
      "execution_count": null,
      "metadata": {},
      "outputs": [],
      "source": [
        "dati"
      ]
    },
    {
      "cell_type": "markdown",
      "metadata": {},
      "source": [
        "Modifichiamo tutta la colonna"
      ]
    },
    {
      "cell_type": "code",
      "execution_count": null,
      "metadata": {},
      "outputs": [],
      "source": [
        "dati[\"eta\"] = dati[\"eta\"] * 2"
      ]
    },
    {
      "cell_type": "code",
      "execution_count": null,
      "metadata": {},
      "outputs": [],
      "source": [
        "dati"
      ]
    },
    {
      "cell_type": "markdown",
      "metadata": {},
      "source": [
        "Prova a modificare la colonna dell'età in modo da farla tornare come era all'inizio"
      ]
    },
    {
      "cell_type": "code",
      "execution_count": null,
      "metadata": {},
      "outputs": [],
      "source": [
        "# Scrivi qui sotto il codice per risolvere l'esercizio 4"
      ]
    },
    {
      "cell_type": "markdown",
      "metadata": {},
      "source": [
        "Cambia il cognome di Alessando Rossi in \"Silvestri\""
      ]
    },
    {
      "cell_type": "code",
      "execution_count": null,
      "metadata": {},
      "outputs": [],
      "source": [
        "# Scrivi qui sotto il codice per risolvere l'esercizio 5"
      ]
    },
    {
      "cell_type": "markdown",
      "metadata": {
        "id": "zT7Fk5fFj9_l"
      },
      "source": [
        "## Possiamo fare qualche grafico!"
      ]
    },
    {
      "cell_type": "markdown",
      "metadata": {
        "id": "AjyPhTMhj_g8"
      },
      "source": [
        "Importiamo la libreria per i grafici"
      ]
    },
    {
      "cell_type": "code",
      "execution_count": null,
      "metadata": {
        "id": "TIfrNnc5kAVN"
      },
      "outputs": [],
      "source": [
        "from matplotlib import pyplot as plt"
      ]
    },
    {
      "cell_type": "markdown",
      "metadata": {
        "id": "6PE6aQqfkBvx"
      },
      "source": [
        "### Facciamo un grafico a barre per vedere quali sono i voti dei ragazzi nella scuola"
      ]
    },
    {
      "cell_type": "markdown",
      "metadata": {
        "id": "YWLXhRpekDSr"
      },
      "source": [
        "Si usa la funzione plt.bar() che prende due argomenti. Il primo indica la lista dei nomi di cui vogliamo informazioni, la seconda la quantità di ciascuno (in questo caso il voto)"
      ]
    },
    {
      "cell_type": "code",
      "execution_count": null,
      "metadata": {
        "id": "h3t_Ri21kC55"
      },
      "outputs": [],
      "source": [
        "plt.figure(figsize=(20, 10))\n",
        "plt.bar(dati[\"nome\"], dati[\"media_voti\"])"
      ]
    },
    {
      "cell_type": "markdown",
      "metadata": {
        "id": "QBs4DJfQkGQm"
      },
      "source": [
        "### Aggiungiamo i nomi degli assi e il titoli"
      ]
    },
    {
      "cell_type": "code",
      "execution_count": null,
      "metadata": {
        "id": "SFAXmPWekHSh"
      },
      "outputs": [],
      "source": [
        "plt.figure(figsize=(20, 10))\n",
        "plt.bar(dati[\"nome\"], dati[\"media_voti\"])\n",
        "plt.title(\"Voti nella scuola\")\n",
        "plt.xlabel(\"Nome\")\n",
        "plt.ylabel(\"Media voti\")"
      ]
    },
    {
      "cell_type": "markdown",
      "metadata": {
        "id": "__nhO3BgkImn"
      },
      "source": [
        "### Facciamo anche un istogramma. Riesci a capire la differenza?"
      ]
    },
    {
      "cell_type": "code",
      "execution_count": null,
      "metadata": {
        "id": "ieuUJN34kJxI"
      },
      "outputs": [],
      "source": [
        "plt.figure(figsize=(8, 6))\n",
        "plt.hist(dati[\"media_voti\"], bins=10)\n",
        "plt.title(\"Voti nella scuola\")\n",
        "plt.xlabel(\"Voti\")\n",
        "plt.ylabel(\"Numero di studenti\")"
      ]
    },
    {
      "cell_type": "markdown",
      "metadata": {
        "id": "CHz5rRADkLKm"
      },
      "source": [
        "### Prova a fare un grafico a barre e un istogramma dell'altezza delle persone"
      ]
    },
    {
      "cell_type": "code",
      "execution_count": null,
      "metadata": {
        "id": "dWWjtiD7kMUO"
      },
      "outputs": [],
      "source": [
        "# Scrivi qui sotto il codice per il diagramma"
      ]
    },
    {
      "cell_type": "code",
      "execution_count": null,
      "metadata": {
        "id": "BvxIFI6IkiLq"
      },
      "outputs": [],
      "source": [
        "# Scrivi qui sotto il codice per l'istogramma"
      ]
    }
  ],
  "metadata": {
    "colab": {
      "provenance": []
    },
    "kernelspec": {
      "display_name": "Python 3",
      "name": "python3"
    },
    "language_info": {
      "codemirror_mode": {
        "name": "ipython",
        "version": 3
      },
      "file_extension": ".py",
      "mimetype": "text/x-python",
      "name": "python",
      "nbconvert_exporter": "python",
      "pygments_lexer": "ipython3",
      "version": "3.10.9"
    }
  },
  "nbformat": 4,
  "nbformat_minor": 0
}
