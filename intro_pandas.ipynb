{
  "cells": [
    {
      "cell_type": "markdown",
      "metadata": {
        "id": "Gb2eRzqLimWo"
      },
      "source": [
        "# Cos'è Pandas?"
      ]
    },
    {
      "cell_type": "markdown",
      "metadata": {
        "id": "bNv9IXiElOSw"
      },
      "source": [
        "_pandas_ è una libreria Python per fare analisi dei dati.\n",
        "\n",
        "Pandas introduce due strutture dati:\n",
        "- **Series**: una lista di dati con un indice.\n",
        "- **Data frame**: una tabella formata da diverse colonne (Series), ognuna con un nome."
      ]
    },
    {
      "cell_type": "markdown",
      "metadata": {
        "id": "jnomJvoXlTng"
      },
      "source": [
        "Pandas è una libreria di programmazione in Python che rende più semplice lavorare con dati. Ti aiuta a organizzare informazioni, come nomi, età, canzoni, giocatori, in modo che tu possa analizzarle più facilmente."
      ]
    },
    {
      "cell_type": "markdown",
      "metadata": {
        "id": "1Vdc0E6GirQ0"
      },
      "source": [
        "Importiamo la libreria"
      ]
    },
    {
      "cell_type": "code",
      "execution_count": 1,
      "metadata": {
        "id": "b5Dulpc2ifM5"
      },
      "outputs": [],
      "source": [
        "import pandas as pd"
      ]
    },
    {
      "cell_type": "markdown",
      "metadata": {
        "id": "9GfHN9Gciuzn"
      },
      "source": [
        "Definiamo una serie di dati su persone"
      ]
    },
    {
      "cell_type": "code",
      "execution_count": 2,
      "metadata": {
        "id": "FNKOQhoAis5V"
      },
      "outputs": [],
      "source": [
        "nome = [\n",
        "    \"Alessandro\",\n",
        "    \"Beatrice\",\n",
        "    \"Cristian\",\n",
        "    \"Davide\",\n",
        "    \"Elena\",\n",
        "    \"Federico\",\n",
        "    \"Giulia\",\n",
        "    \"Luca\",\n",
        "    \"Martina\",\n",
        "    \"Nicola\",\n",
        "    \"Roberta\",\n",
        "    \"Stefano\",\n",
        "    \"Valentina\",\n",
        "    \"Andrea\",\n",
        "    \"Chiara\",\n",
        "    \"Emanuele\",\n",
        "    \"Francesca\",\n",
        "    \"Giovanni\",\n",
        "    \"Laura\",\n",
        "    \"Marco\",\n",
        "]\n",
        "\n",
        "cognome = [\n",
        "    \"Rossi\",\n",
        "    \"Bianchi\",\n",
        "    \"Ferrari\",\n",
        "    \"Russo\",\n",
        "    \"Esposito\",\n",
        "    \"Colombo\",\n",
        "    \"Conti\",\n",
        "    \"Marchetti\",\n",
        "    \"De Luca\",\n",
        "    \"Marino\",\n",
        "    \"Greco\",\n",
        "    \"Moretti\",\n",
        "    \"Barbieri\",\n",
        "    \"Fontana\",\n",
        "    \"Ricci\",\n",
        "    \"Mariani\",\n",
        "    \"Rizzo\",\n",
        "    \"De Santis\",\n",
        "    \"Ferrara\",\n",
        "    \"Bruno\",\n",
        "]\n",
        "\n",
        "altezza = [\n",
        "    1.82,\n",
        "    1.65,\n",
        "    1.75,\n",
        "    1.78,\n",
        "    1.65,\n",
        "    1.82,\n",
        "    1.65,\n",
        "    1.75,\n",
        "    1.78,\n",
        "    1.65,\n",
        "    1.82,\n",
        "    1.65,\n",
        "    1.75,\n",
        "    1.78,\n",
        "    1.65,\n",
        "    1.82,\n",
        "    1.65,\n",
        "    1.75,\n",
        "    1.78,\n",
        "    1.65,\n",
        "]\n",
        "\n",
        "eta = [19, 17, 14, 15, 18, 14, 14, 19, 18, 18, 17, 15, 16, 15, 16, 16, 14, 14, 19, 19]\n",
        "\n",
        "capelli = [\n",
        "    \"castani\",\n",
        "    \"neri\",\n",
        "    \"castani\",\n",
        "    \"neri\",\n",
        "    \"rossi\",\n",
        "    \"neri\",\n",
        "    \"neri\",\n",
        "    \"castani\",\n",
        "    \"rossi\",\n",
        "    \"neri\",\n",
        "    \"castani\",\n",
        "    \"biondi\",\n",
        "    \"neri\",\n",
        "    \"biondi\",\n",
        "    \"castani\",\n",
        "    \"biondi\",\n",
        "    \"castani\",\n",
        "    \"castani\",\n",
        "    \"rossi\",\n",
        "    \"neri\",\n",
        "]\n",
        "\n",
        "media_voti = [\n",
        "    8.09,\n",
        "    6.49,\n",
        "    8.96,\n",
        "    7.71,\n",
        "    7.95,\n",
        "    6.98,\n",
        "    6.78,\n",
        "    8.82,\n",
        "    7.37,\n",
        "    6.23,\n",
        "    6.93,\n",
        "    6.56,\n",
        "    9.89,\n",
        "    6.48,\n",
        "    9.04,\n",
        "    7.61,\n",
        "    8.73,\n",
        "    6.43,\n",
        "    9.87,\n",
        "    7.41,\n",
        "]"
      ]
    },
    {
      "cell_type": "markdown",
      "metadata": {
        "id": "VXwnZ40djC0H"
      },
      "source": [
        "Crea il DataFrame (la tabella dei dati)"
      ]
    },
    {
      "cell_type": "code",
      "execution_count": 3,
      "metadata": {
        "id": "JiuwFsHTjBbA"
      },
      "outputs": [],
      "source": [
        "df = pd.DataFrame(\n",
        "    {\n",
        "        \"nome\": nome,\n",
        "        \"cognome\": cognome,\n",
        "        \"altezza\": altezza,\n",
        "        \"capelli\": capelli,\n",
        "        \"eta\": eta,\n",
        "        \"media_voti\": media_voti,\n",
        "    }\n",
        ")"
      ]
    },
    {
      "cell_type": "markdown",
      "metadata": {
        "id": "oEMbbzGqjJZr"
      },
      "source": [
        "### Il nostro DataFrame:"
      ]
    },
    {
      "cell_type": "code",
      "execution_count": 4,
      "metadata": {
        "colab": {
          "base_uri": "https://localhost:8080/",
          "height": 676
        },
        "id": "qDzhFSSDjH0m",
        "outputId": "acdd8be5-faff-4d46-b2fa-c651ceed9def"
      },
      "outputs": [
        {
          "data": {
            "text/html": [
              "<div>\n",
              "<style scoped>\n",
              "    .dataframe tbody tr th:only-of-type {\n",
              "        vertical-align: middle;\n",
              "    }\n",
              "\n",
              "    .dataframe tbody tr th {\n",
              "        vertical-align: top;\n",
              "    }\n",
              "\n",
              "    .dataframe thead th {\n",
              "        text-align: right;\n",
              "    }\n",
              "</style>\n",
              "<table border=\"1\" class=\"dataframe\">\n",
              "  <thead>\n",
              "    <tr style=\"text-align: right;\">\n",
              "      <th></th>\n",
              "      <th>nome</th>\n",
              "      <th>cognome</th>\n",
              "      <th>altezza</th>\n",
              "      <th>capelli</th>\n",
              "      <th>eta</th>\n",
              "      <th>media_voti</th>\n",
              "    </tr>\n",
              "  </thead>\n",
              "  <tbody>\n",
              "    <tr>\n",
              "      <th>0</th>\n",
              "      <td>Alessandro</td>\n",
              "      <td>Rossi</td>\n",
              "      <td>1.82</td>\n",
              "      <td>castani</td>\n",
              "      <td>19</td>\n",
              "      <td>8.09</td>\n",
              "    </tr>\n",
              "    <tr>\n",
              "      <th>1</th>\n",
              "      <td>Beatrice</td>\n",
              "      <td>Bianchi</td>\n",
              "      <td>1.65</td>\n",
              "      <td>neri</td>\n",
              "      <td>17</td>\n",
              "      <td>6.49</td>\n",
              "    </tr>\n",
              "    <tr>\n",
              "      <th>2</th>\n",
              "      <td>Cristian</td>\n",
              "      <td>Ferrari</td>\n",
              "      <td>1.75</td>\n",
              "      <td>castani</td>\n",
              "      <td>14</td>\n",
              "      <td>8.96</td>\n",
              "    </tr>\n",
              "    <tr>\n",
              "      <th>3</th>\n",
              "      <td>Davide</td>\n",
              "      <td>Russo</td>\n",
              "      <td>1.78</td>\n",
              "      <td>neri</td>\n",
              "      <td>15</td>\n",
              "      <td>7.71</td>\n",
              "    </tr>\n",
              "    <tr>\n",
              "      <th>4</th>\n",
              "      <td>Elena</td>\n",
              "      <td>Esposito</td>\n",
              "      <td>1.65</td>\n",
              "      <td>rossi</td>\n",
              "      <td>18</td>\n",
              "      <td>7.95</td>\n",
              "    </tr>\n",
              "    <tr>\n",
              "      <th>5</th>\n",
              "      <td>Federico</td>\n",
              "      <td>Colombo</td>\n",
              "      <td>1.82</td>\n",
              "      <td>neri</td>\n",
              "      <td>14</td>\n",
              "      <td>6.98</td>\n",
              "    </tr>\n",
              "    <tr>\n",
              "      <th>6</th>\n",
              "      <td>Giulia</td>\n",
              "      <td>Conti</td>\n",
              "      <td>1.65</td>\n",
              "      <td>neri</td>\n",
              "      <td>14</td>\n",
              "      <td>6.78</td>\n",
              "    </tr>\n",
              "    <tr>\n",
              "      <th>7</th>\n",
              "      <td>Luca</td>\n",
              "      <td>Marchetti</td>\n",
              "      <td>1.75</td>\n",
              "      <td>castani</td>\n",
              "      <td>19</td>\n",
              "      <td>8.82</td>\n",
              "    </tr>\n",
              "    <tr>\n",
              "      <th>8</th>\n",
              "      <td>Martina</td>\n",
              "      <td>De Luca</td>\n",
              "      <td>1.78</td>\n",
              "      <td>rossi</td>\n",
              "      <td>18</td>\n",
              "      <td>7.37</td>\n",
              "    </tr>\n",
              "    <tr>\n",
              "      <th>9</th>\n",
              "      <td>Nicola</td>\n",
              "      <td>Marino</td>\n",
              "      <td>1.65</td>\n",
              "      <td>neri</td>\n",
              "      <td>18</td>\n",
              "      <td>6.23</td>\n",
              "    </tr>\n",
              "    <tr>\n",
              "      <th>10</th>\n",
              "      <td>Roberta</td>\n",
              "      <td>Greco</td>\n",
              "      <td>1.82</td>\n",
              "      <td>castani</td>\n",
              "      <td>17</td>\n",
              "      <td>6.93</td>\n",
              "    </tr>\n",
              "    <tr>\n",
              "      <th>11</th>\n",
              "      <td>Stefano</td>\n",
              "      <td>Moretti</td>\n",
              "      <td>1.65</td>\n",
              "      <td>biondi</td>\n",
              "      <td>15</td>\n",
              "      <td>6.56</td>\n",
              "    </tr>\n",
              "    <tr>\n",
              "      <th>12</th>\n",
              "      <td>Valentina</td>\n",
              "      <td>Barbieri</td>\n",
              "      <td>1.75</td>\n",
              "      <td>neri</td>\n",
              "      <td>16</td>\n",
              "      <td>9.89</td>\n",
              "    </tr>\n",
              "    <tr>\n",
              "      <th>13</th>\n",
              "      <td>Andrea</td>\n",
              "      <td>Fontana</td>\n",
              "      <td>1.78</td>\n",
              "      <td>biondi</td>\n",
              "      <td>15</td>\n",
              "      <td>6.48</td>\n",
              "    </tr>\n",
              "    <tr>\n",
              "      <th>14</th>\n",
              "      <td>Chiara</td>\n",
              "      <td>Ricci</td>\n",
              "      <td>1.65</td>\n",
              "      <td>castani</td>\n",
              "      <td>16</td>\n",
              "      <td>9.04</td>\n",
              "    </tr>\n",
              "    <tr>\n",
              "      <th>15</th>\n",
              "      <td>Emanuele</td>\n",
              "      <td>Mariani</td>\n",
              "      <td>1.82</td>\n",
              "      <td>biondi</td>\n",
              "      <td>16</td>\n",
              "      <td>7.61</td>\n",
              "    </tr>\n",
              "    <tr>\n",
              "      <th>16</th>\n",
              "      <td>Francesca</td>\n",
              "      <td>Rizzo</td>\n",
              "      <td>1.65</td>\n",
              "      <td>castani</td>\n",
              "      <td>14</td>\n",
              "      <td>8.73</td>\n",
              "    </tr>\n",
              "    <tr>\n",
              "      <th>17</th>\n",
              "      <td>Giovanni</td>\n",
              "      <td>De Santis</td>\n",
              "      <td>1.75</td>\n",
              "      <td>castani</td>\n",
              "      <td>14</td>\n",
              "      <td>6.43</td>\n",
              "    </tr>\n",
              "    <tr>\n",
              "      <th>18</th>\n",
              "      <td>Laura</td>\n",
              "      <td>Ferrara</td>\n",
              "      <td>1.78</td>\n",
              "      <td>rossi</td>\n",
              "      <td>19</td>\n",
              "      <td>9.87</td>\n",
              "    </tr>\n",
              "    <tr>\n",
              "      <th>19</th>\n",
              "      <td>Marco</td>\n",
              "      <td>Bruno</td>\n",
              "      <td>1.65</td>\n",
              "      <td>neri</td>\n",
              "      <td>19</td>\n",
              "      <td>7.41</td>\n",
              "    </tr>\n",
              "  </tbody>\n",
              "</table>\n",
              "</div>"
            ],
            "text/plain": [
              "          nome    cognome  altezza  capelli  eta  media_voti\n",
              "0   Alessandro      Rossi     1.82  castani   19        8.09\n",
              "1     Beatrice    Bianchi     1.65     neri   17        6.49\n",
              "2     Cristian    Ferrari     1.75  castani   14        8.96\n",
              "3       Davide      Russo     1.78     neri   15        7.71\n",
              "4        Elena   Esposito     1.65    rossi   18        7.95\n",
              "5     Federico    Colombo     1.82     neri   14        6.98\n",
              "6       Giulia      Conti     1.65     neri   14        6.78\n",
              "7         Luca  Marchetti     1.75  castani   19        8.82\n",
              "8      Martina    De Luca     1.78    rossi   18        7.37\n",
              "9       Nicola     Marino     1.65     neri   18        6.23\n",
              "10     Roberta      Greco     1.82  castani   17        6.93\n",
              "11     Stefano    Moretti     1.65   biondi   15        6.56\n",
              "12   Valentina   Barbieri     1.75     neri   16        9.89\n",
              "13      Andrea    Fontana     1.78   biondi   15        6.48\n",
              "14      Chiara      Ricci     1.65  castani   16        9.04\n",
              "15    Emanuele    Mariani     1.82   biondi   16        7.61\n",
              "16   Francesca      Rizzo     1.65  castani   14        8.73\n",
              "17    Giovanni  De Santis     1.75  castani   14        6.43\n",
              "18       Laura    Ferrara     1.78    rossi   19        9.87\n",
              "19       Marco      Bruno     1.65     neri   19        7.41"
            ]
          },
          "execution_count": 4,
          "metadata": {},
          "output_type": "execute_result"
        }
      ],
      "source": [
        "df"
      ]
    },
    {
      "cell_type": "markdown",
      "metadata": {
        "id": "72DiffH0k1_f"
      },
      "source": [
        "## Puoi vedere solo la parte iniziale del DataFrame"
      ]
    },
    {
      "cell_type": "code",
      "execution_count": 5,
      "metadata": {
        "colab": {
          "base_uri": "https://localhost:8080/",
          "height": 206
        },
        "id": "elmJozrEjMYV",
        "outputId": "7161d4b5-ffdc-48a5-c121-8431cf5194a3"
      },
      "outputs": [
        {
          "data": {
            "text/html": [
              "<div>\n",
              "<style scoped>\n",
              "    .dataframe tbody tr th:only-of-type {\n",
              "        vertical-align: middle;\n",
              "    }\n",
              "\n",
              "    .dataframe tbody tr th {\n",
              "        vertical-align: top;\n",
              "    }\n",
              "\n",
              "    .dataframe thead th {\n",
              "        text-align: right;\n",
              "    }\n",
              "</style>\n",
              "<table border=\"1\" class=\"dataframe\">\n",
              "  <thead>\n",
              "    <tr style=\"text-align: right;\">\n",
              "      <th></th>\n",
              "      <th>nome</th>\n",
              "      <th>cognome</th>\n",
              "      <th>altezza</th>\n",
              "      <th>capelli</th>\n",
              "      <th>eta</th>\n",
              "      <th>media_voti</th>\n",
              "    </tr>\n",
              "  </thead>\n",
              "  <tbody>\n",
              "    <tr>\n",
              "      <th>0</th>\n",
              "      <td>Alessandro</td>\n",
              "      <td>Rossi</td>\n",
              "      <td>1.82</td>\n",
              "      <td>castani</td>\n",
              "      <td>19</td>\n",
              "      <td>8.09</td>\n",
              "    </tr>\n",
              "    <tr>\n",
              "      <th>1</th>\n",
              "      <td>Beatrice</td>\n",
              "      <td>Bianchi</td>\n",
              "      <td>1.65</td>\n",
              "      <td>neri</td>\n",
              "      <td>17</td>\n",
              "      <td>6.49</td>\n",
              "    </tr>\n",
              "    <tr>\n",
              "      <th>2</th>\n",
              "      <td>Cristian</td>\n",
              "      <td>Ferrari</td>\n",
              "      <td>1.75</td>\n",
              "      <td>castani</td>\n",
              "      <td>14</td>\n",
              "      <td>8.96</td>\n",
              "    </tr>\n",
              "    <tr>\n",
              "      <th>3</th>\n",
              "      <td>Davide</td>\n",
              "      <td>Russo</td>\n",
              "      <td>1.78</td>\n",
              "      <td>neri</td>\n",
              "      <td>15</td>\n",
              "      <td>7.71</td>\n",
              "    </tr>\n",
              "    <tr>\n",
              "      <th>4</th>\n",
              "      <td>Elena</td>\n",
              "      <td>Esposito</td>\n",
              "      <td>1.65</td>\n",
              "      <td>rossi</td>\n",
              "      <td>18</td>\n",
              "      <td>7.95</td>\n",
              "    </tr>\n",
              "  </tbody>\n",
              "</table>\n",
              "</div>"
            ],
            "text/plain": [
              "         nome   cognome  altezza  capelli  eta  media_voti\n",
              "0  Alessandro     Rossi     1.82  castani   19        8.09\n",
              "1    Beatrice   Bianchi     1.65     neri   17        6.49\n",
              "2    Cristian   Ferrari     1.75  castani   14        8.96\n",
              "3      Davide     Russo     1.78     neri   15        7.71\n",
              "4       Elena  Esposito     1.65    rossi   18        7.95"
            ]
          },
          "execution_count": 5,
          "metadata": {},
          "output_type": "execute_result"
        }
      ],
      "source": [
        "df.head()"
      ]
    },
    {
      "cell_type": "markdown",
      "metadata": {
        "id": "Y33OY1FZjO2C"
      },
      "source": [
        "### Pandas può aiutarti a guardare, ordinare e giocare con i tuoi dati. Ti permette di vedere e capire meglio le informazioni."
      ]
    },
    {
      "cell_type": "markdown",
      "metadata": {
        "id": "TAYZ1Ds1jP5u"
      },
      "source": [
        "Puoi chiedere a Pandas di mostrarti solo alcune informazioni:"
      ]
    },
    {
      "cell_type": "code",
      "execution_count": 6,
      "metadata": {
        "colab": {
          "base_uri": "https://localhost:8080/",
          "height": 676
        },
        "id": "KUJJFRmdjQ3H",
        "outputId": "419a7f4f-3041-4e2f-9b4d-824dc7a799ca"
      },
      "outputs": [
        {
          "data": {
            "text/html": [
              "<div>\n",
              "<style scoped>\n",
              "    .dataframe tbody tr th:only-of-type {\n",
              "        vertical-align: middle;\n",
              "    }\n",
              "\n",
              "    .dataframe tbody tr th {\n",
              "        vertical-align: top;\n",
              "    }\n",
              "\n",
              "    .dataframe thead th {\n",
              "        text-align: right;\n",
              "    }\n",
              "</style>\n",
              "<table border=\"1\" class=\"dataframe\">\n",
              "  <thead>\n",
              "    <tr style=\"text-align: right;\">\n",
              "      <th></th>\n",
              "      <th>nome</th>\n",
              "    </tr>\n",
              "  </thead>\n",
              "  <tbody>\n",
              "    <tr>\n",
              "      <th>0</th>\n",
              "      <td>Alessandro</td>\n",
              "    </tr>\n",
              "    <tr>\n",
              "      <th>1</th>\n",
              "      <td>Beatrice</td>\n",
              "    </tr>\n",
              "    <tr>\n",
              "      <th>2</th>\n",
              "      <td>Cristian</td>\n",
              "    </tr>\n",
              "    <tr>\n",
              "      <th>3</th>\n",
              "      <td>Davide</td>\n",
              "    </tr>\n",
              "    <tr>\n",
              "      <th>4</th>\n",
              "      <td>Elena</td>\n",
              "    </tr>\n",
              "    <tr>\n",
              "      <th>5</th>\n",
              "      <td>Federico</td>\n",
              "    </tr>\n",
              "    <tr>\n",
              "      <th>6</th>\n",
              "      <td>Giulia</td>\n",
              "    </tr>\n",
              "    <tr>\n",
              "      <th>7</th>\n",
              "      <td>Luca</td>\n",
              "    </tr>\n",
              "    <tr>\n",
              "      <th>8</th>\n",
              "      <td>Martina</td>\n",
              "    </tr>\n",
              "    <tr>\n",
              "      <th>9</th>\n",
              "      <td>Nicola</td>\n",
              "    </tr>\n",
              "    <tr>\n",
              "      <th>10</th>\n",
              "      <td>Roberta</td>\n",
              "    </tr>\n",
              "    <tr>\n",
              "      <th>11</th>\n",
              "      <td>Stefano</td>\n",
              "    </tr>\n",
              "    <tr>\n",
              "      <th>12</th>\n",
              "      <td>Valentina</td>\n",
              "    </tr>\n",
              "    <tr>\n",
              "      <th>13</th>\n",
              "      <td>Andrea</td>\n",
              "    </tr>\n",
              "    <tr>\n",
              "      <th>14</th>\n",
              "      <td>Chiara</td>\n",
              "    </tr>\n",
              "    <tr>\n",
              "      <th>15</th>\n",
              "      <td>Emanuele</td>\n",
              "    </tr>\n",
              "    <tr>\n",
              "      <th>16</th>\n",
              "      <td>Francesca</td>\n",
              "    </tr>\n",
              "    <tr>\n",
              "      <th>17</th>\n",
              "      <td>Giovanni</td>\n",
              "    </tr>\n",
              "    <tr>\n",
              "      <th>18</th>\n",
              "      <td>Laura</td>\n",
              "    </tr>\n",
              "    <tr>\n",
              "      <th>19</th>\n",
              "      <td>Marco</td>\n",
              "    </tr>\n",
              "  </tbody>\n",
              "</table>\n",
              "</div>"
            ],
            "text/plain": [
              "          nome\n",
              "0   Alessandro\n",
              "1     Beatrice\n",
              "2     Cristian\n",
              "3       Davide\n",
              "4        Elena\n",
              "5     Federico\n",
              "6       Giulia\n",
              "7         Luca\n",
              "8      Martina\n",
              "9       Nicola\n",
              "10     Roberta\n",
              "11     Stefano\n",
              "12   Valentina\n",
              "13      Andrea\n",
              "14      Chiara\n",
              "15    Emanuele\n",
              "16   Francesca\n",
              "17    Giovanni\n",
              "18       Laura\n",
              "19       Marco"
            ]
          },
          "execution_count": 6,
          "metadata": {},
          "output_type": "execute_result"
        }
      ],
      "source": [
        "df[[\"nome\"]]"
      ]
    },
    {
      "cell_type": "code",
      "execution_count": 7,
      "metadata": {
        "colab": {
          "base_uri": "https://localhost:8080/",
          "height": 676
        },
        "id": "8ZaSNSVcjR4X",
        "outputId": "43f39765-84c7-4835-b1b0-19f7b0fcd034"
      },
      "outputs": [
        {
          "data": {
            "text/html": [
              "<div>\n",
              "<style scoped>\n",
              "    .dataframe tbody tr th:only-of-type {\n",
              "        vertical-align: middle;\n",
              "    }\n",
              "\n",
              "    .dataframe tbody tr th {\n",
              "        vertical-align: top;\n",
              "    }\n",
              "\n",
              "    .dataframe thead th {\n",
              "        text-align: right;\n",
              "    }\n",
              "</style>\n",
              "<table border=\"1\" class=\"dataframe\">\n",
              "  <thead>\n",
              "    <tr style=\"text-align: right;\">\n",
              "      <th></th>\n",
              "      <th>altezza</th>\n",
              "    </tr>\n",
              "  </thead>\n",
              "  <tbody>\n",
              "    <tr>\n",
              "      <th>0</th>\n",
              "      <td>1.82</td>\n",
              "    </tr>\n",
              "    <tr>\n",
              "      <th>1</th>\n",
              "      <td>1.65</td>\n",
              "    </tr>\n",
              "    <tr>\n",
              "      <th>2</th>\n",
              "      <td>1.75</td>\n",
              "    </tr>\n",
              "    <tr>\n",
              "      <th>3</th>\n",
              "      <td>1.78</td>\n",
              "    </tr>\n",
              "    <tr>\n",
              "      <th>4</th>\n",
              "      <td>1.65</td>\n",
              "    </tr>\n",
              "    <tr>\n",
              "      <th>5</th>\n",
              "      <td>1.82</td>\n",
              "    </tr>\n",
              "    <tr>\n",
              "      <th>6</th>\n",
              "      <td>1.65</td>\n",
              "    </tr>\n",
              "    <tr>\n",
              "      <th>7</th>\n",
              "      <td>1.75</td>\n",
              "    </tr>\n",
              "    <tr>\n",
              "      <th>8</th>\n",
              "      <td>1.78</td>\n",
              "    </tr>\n",
              "    <tr>\n",
              "      <th>9</th>\n",
              "      <td>1.65</td>\n",
              "    </tr>\n",
              "    <tr>\n",
              "      <th>10</th>\n",
              "      <td>1.82</td>\n",
              "    </tr>\n",
              "    <tr>\n",
              "      <th>11</th>\n",
              "      <td>1.65</td>\n",
              "    </tr>\n",
              "    <tr>\n",
              "      <th>12</th>\n",
              "      <td>1.75</td>\n",
              "    </tr>\n",
              "    <tr>\n",
              "      <th>13</th>\n",
              "      <td>1.78</td>\n",
              "    </tr>\n",
              "    <tr>\n",
              "      <th>14</th>\n",
              "      <td>1.65</td>\n",
              "    </tr>\n",
              "    <tr>\n",
              "      <th>15</th>\n",
              "      <td>1.82</td>\n",
              "    </tr>\n",
              "    <tr>\n",
              "      <th>16</th>\n",
              "      <td>1.65</td>\n",
              "    </tr>\n",
              "    <tr>\n",
              "      <th>17</th>\n",
              "      <td>1.75</td>\n",
              "    </tr>\n",
              "    <tr>\n",
              "      <th>18</th>\n",
              "      <td>1.78</td>\n",
              "    </tr>\n",
              "    <tr>\n",
              "      <th>19</th>\n",
              "      <td>1.65</td>\n",
              "    </tr>\n",
              "  </tbody>\n",
              "</table>\n",
              "</div>"
            ],
            "text/plain": [
              "    altezza\n",
              "0      1.82\n",
              "1      1.65\n",
              "2      1.75\n",
              "3      1.78\n",
              "4      1.65\n",
              "5      1.82\n",
              "6      1.65\n",
              "7      1.75\n",
              "8      1.78\n",
              "9      1.65\n",
              "10     1.82\n",
              "11     1.65\n",
              "12     1.75\n",
              "13     1.78\n",
              "14     1.65\n",
              "15     1.82\n",
              "16     1.65\n",
              "17     1.75\n",
              "18     1.78\n",
              "19     1.65"
            ]
          },
          "execution_count": 7,
          "metadata": {},
          "output_type": "execute_result"
        }
      ],
      "source": [
        "df[[\"altezza\"]]"
      ]
    },
    {
      "cell_type": "code",
      "execution_count": 8,
      "metadata": {
        "colab": {
          "base_uri": "https://localhost:8080/",
          "height": 676
        },
        "id": "p-AxioUVjTAJ",
        "outputId": "f6607e4e-5869-46c0-c796-80f6d326bcfb"
      },
      "outputs": [
        {
          "data": {
            "text/html": [
              "<div>\n",
              "<style scoped>\n",
              "    .dataframe tbody tr th:only-of-type {\n",
              "        vertical-align: middle;\n",
              "    }\n",
              "\n",
              "    .dataframe tbody tr th {\n",
              "        vertical-align: top;\n",
              "    }\n",
              "\n",
              "    .dataframe thead th {\n",
              "        text-align: right;\n",
              "    }\n",
              "</style>\n",
              "<table border=\"1\" class=\"dataframe\">\n",
              "  <thead>\n",
              "    <tr style=\"text-align: right;\">\n",
              "      <th></th>\n",
              "      <th>altezza</th>\n",
              "      <th>capelli</th>\n",
              "    </tr>\n",
              "  </thead>\n",
              "  <tbody>\n",
              "    <tr>\n",
              "      <th>0</th>\n",
              "      <td>1.82</td>\n",
              "      <td>castani</td>\n",
              "    </tr>\n",
              "    <tr>\n",
              "      <th>1</th>\n",
              "      <td>1.65</td>\n",
              "      <td>neri</td>\n",
              "    </tr>\n",
              "    <tr>\n",
              "      <th>2</th>\n",
              "      <td>1.75</td>\n",
              "      <td>castani</td>\n",
              "    </tr>\n",
              "    <tr>\n",
              "      <th>3</th>\n",
              "      <td>1.78</td>\n",
              "      <td>neri</td>\n",
              "    </tr>\n",
              "    <tr>\n",
              "      <th>4</th>\n",
              "      <td>1.65</td>\n",
              "      <td>rossi</td>\n",
              "    </tr>\n",
              "    <tr>\n",
              "      <th>5</th>\n",
              "      <td>1.82</td>\n",
              "      <td>neri</td>\n",
              "    </tr>\n",
              "    <tr>\n",
              "      <th>6</th>\n",
              "      <td>1.65</td>\n",
              "      <td>neri</td>\n",
              "    </tr>\n",
              "    <tr>\n",
              "      <th>7</th>\n",
              "      <td>1.75</td>\n",
              "      <td>castani</td>\n",
              "    </tr>\n",
              "    <tr>\n",
              "      <th>8</th>\n",
              "      <td>1.78</td>\n",
              "      <td>rossi</td>\n",
              "    </tr>\n",
              "    <tr>\n",
              "      <th>9</th>\n",
              "      <td>1.65</td>\n",
              "      <td>neri</td>\n",
              "    </tr>\n",
              "    <tr>\n",
              "      <th>10</th>\n",
              "      <td>1.82</td>\n",
              "      <td>castani</td>\n",
              "    </tr>\n",
              "    <tr>\n",
              "      <th>11</th>\n",
              "      <td>1.65</td>\n",
              "      <td>biondi</td>\n",
              "    </tr>\n",
              "    <tr>\n",
              "      <th>12</th>\n",
              "      <td>1.75</td>\n",
              "      <td>neri</td>\n",
              "    </tr>\n",
              "    <tr>\n",
              "      <th>13</th>\n",
              "      <td>1.78</td>\n",
              "      <td>biondi</td>\n",
              "    </tr>\n",
              "    <tr>\n",
              "      <th>14</th>\n",
              "      <td>1.65</td>\n",
              "      <td>castani</td>\n",
              "    </tr>\n",
              "    <tr>\n",
              "      <th>15</th>\n",
              "      <td>1.82</td>\n",
              "      <td>biondi</td>\n",
              "    </tr>\n",
              "    <tr>\n",
              "      <th>16</th>\n",
              "      <td>1.65</td>\n",
              "      <td>castani</td>\n",
              "    </tr>\n",
              "    <tr>\n",
              "      <th>17</th>\n",
              "      <td>1.75</td>\n",
              "      <td>castani</td>\n",
              "    </tr>\n",
              "    <tr>\n",
              "      <th>18</th>\n",
              "      <td>1.78</td>\n",
              "      <td>rossi</td>\n",
              "    </tr>\n",
              "    <tr>\n",
              "      <th>19</th>\n",
              "      <td>1.65</td>\n",
              "      <td>neri</td>\n",
              "    </tr>\n",
              "  </tbody>\n",
              "</table>\n",
              "</div>"
            ],
            "text/plain": [
              "    altezza  capelli\n",
              "0      1.82  castani\n",
              "1      1.65     neri\n",
              "2      1.75  castani\n",
              "3      1.78     neri\n",
              "4      1.65    rossi\n",
              "5      1.82     neri\n",
              "6      1.65     neri\n",
              "7      1.75  castani\n",
              "8      1.78    rossi\n",
              "9      1.65     neri\n",
              "10     1.82  castani\n",
              "11     1.65   biondi\n",
              "12     1.75     neri\n",
              "13     1.78   biondi\n",
              "14     1.65  castani\n",
              "15     1.82   biondi\n",
              "16     1.65  castani\n",
              "17     1.75  castani\n",
              "18     1.78    rossi\n",
              "19     1.65     neri"
            ]
          },
          "execution_count": 8,
          "metadata": {},
          "output_type": "execute_result"
        }
      ],
      "source": [
        "df[[\"altezza\", \"capelli\"]]"
      ]
    },
    {
      "cell_type": "markdown",
      "metadata": {
        "id": "vnkj9V1MjUL2"
      },
      "source": [
        "Scrivi un codice per mostrare solamente il \"nome\", \"cognome\" e la \"media voti\""
      ]
    },
    {
      "cell_type": "code",
      "execution_count": 9,
      "metadata": {
        "id": "vgZjbRt5jVnV"
      },
      "outputs": [],
      "source": [
        "# scrivi qui giu' il codice per risolvere l'esercizio 1"
      ]
    },
    {
      "cell_type": "markdown",
      "metadata": {
        "id": "KSBPXaGOjXj7"
      },
      "source": [
        "### Manipoliamo questa tabella"
      ]
    },
    {
      "cell_type": "markdown",
      "metadata": {
        "id": "jleDHQCBjazq"
      },
      "source": [
        "Vediamo la riga di \"Andrea\""
      ]
    },
    {
      "cell_type": "code",
      "execution_count": 10,
      "metadata": {
        "colab": {
          "base_uri": "https://localhost:8080/",
          "height": 80
        },
        "id": "wFrcwx0WjaJn",
        "outputId": "d7c1ac61-ac25-4bab-d6bb-ba57c4a795f6"
      },
      "outputs": [
        {
          "data": {
            "text/html": [
              "<div>\n",
              "<style scoped>\n",
              "    .dataframe tbody tr th:only-of-type {\n",
              "        vertical-align: middle;\n",
              "    }\n",
              "\n",
              "    .dataframe tbody tr th {\n",
              "        vertical-align: top;\n",
              "    }\n",
              "\n",
              "    .dataframe thead th {\n",
              "        text-align: right;\n",
              "    }\n",
              "</style>\n",
              "<table border=\"1\" class=\"dataframe\">\n",
              "  <thead>\n",
              "    <tr style=\"text-align: right;\">\n",
              "      <th></th>\n",
              "      <th>nome</th>\n",
              "      <th>cognome</th>\n",
              "      <th>altezza</th>\n",
              "      <th>capelli</th>\n",
              "      <th>eta</th>\n",
              "      <th>media_voti</th>\n",
              "    </tr>\n",
              "  </thead>\n",
              "  <tbody>\n",
              "    <tr>\n",
              "      <th>13</th>\n",
              "      <td>Andrea</td>\n",
              "      <td>Fontana</td>\n",
              "      <td>1.78</td>\n",
              "      <td>biondi</td>\n",
              "      <td>15</td>\n",
              "      <td>6.48</td>\n",
              "    </tr>\n",
              "  </tbody>\n",
              "</table>\n",
              "</div>"
            ],
            "text/plain": [
              "      nome  cognome  altezza capelli  eta  media_voti\n",
              "13  Andrea  Fontana     1.78  biondi   15        6.48"
            ]
          },
          "execution_count": 10,
          "metadata": {},
          "output_type": "execute_result"
        }
      ],
      "source": [
        "df[df[\"nome\"] == \"Andrea\"]"
      ]
    },
    {
      "cell_type": "code",
      "execution_count": 11,
      "metadata": {
        "colab": {
          "base_uri": "https://localhost:8080/",
          "height": 143
        },
        "id": "kt78LsVAjXUB",
        "outputId": "f88ebcb7-17e6-4e72-e407-0a8edcab307a"
      },
      "outputs": [
        {
          "data": {
            "text/html": [
              "<div>\n",
              "<style scoped>\n",
              "    .dataframe tbody tr th:only-of-type {\n",
              "        vertical-align: middle;\n",
              "    }\n",
              "\n",
              "    .dataframe tbody tr th {\n",
              "        vertical-align: top;\n",
              "    }\n",
              "\n",
              "    .dataframe thead th {\n",
              "        text-align: right;\n",
              "    }\n",
              "</style>\n",
              "<table border=\"1\" class=\"dataframe\">\n",
              "  <thead>\n",
              "    <tr style=\"text-align: right;\">\n",
              "      <th></th>\n",
              "      <th>nome</th>\n",
              "      <th>cognome</th>\n",
              "      <th>altezza</th>\n",
              "      <th>capelli</th>\n",
              "      <th>eta</th>\n",
              "      <th>media_voti</th>\n",
              "    </tr>\n",
              "  </thead>\n",
              "  <tbody>\n",
              "    <tr>\n",
              "      <th>4</th>\n",
              "      <td>Elena</td>\n",
              "      <td>Esposito</td>\n",
              "      <td>1.65</td>\n",
              "      <td>rossi</td>\n",
              "      <td>18</td>\n",
              "      <td>7.95</td>\n",
              "    </tr>\n",
              "    <tr>\n",
              "      <th>8</th>\n",
              "      <td>Martina</td>\n",
              "      <td>De Luca</td>\n",
              "      <td>1.78</td>\n",
              "      <td>rossi</td>\n",
              "      <td>18</td>\n",
              "      <td>7.37</td>\n",
              "    </tr>\n",
              "    <tr>\n",
              "      <th>18</th>\n",
              "      <td>Laura</td>\n",
              "      <td>Ferrara</td>\n",
              "      <td>1.78</td>\n",
              "      <td>rossi</td>\n",
              "      <td>19</td>\n",
              "      <td>9.87</td>\n",
              "    </tr>\n",
              "  </tbody>\n",
              "</table>\n",
              "</div>"
            ],
            "text/plain": [
              "       nome   cognome  altezza capelli  eta  media_voti\n",
              "4     Elena  Esposito     1.65   rossi   18        7.95\n",
              "8   Martina   De Luca     1.78   rossi   18        7.37\n",
              "18    Laura   Ferrara     1.78   rossi   19        9.87"
            ]
          },
          "execution_count": 11,
          "metadata": {},
          "output_type": "execute_result"
        }
      ],
      "source": [
        "df[df[\"capelli\"] == \"rossi\"]"
      ]
    },
    {
      "cell_type": "code",
      "execution_count": 12,
      "metadata": {
        "colab": {
          "base_uri": "https://localhost:8080/",
          "height": 174
        },
        "id": "BzkuAFwYjefW",
        "outputId": "92b7a67c-59aa-45a1-fa9b-bf4469843a64"
      },
      "outputs": [
        {
          "data": {
            "text/html": [
              "<div>\n",
              "<style scoped>\n",
              "    .dataframe tbody tr th:only-of-type {\n",
              "        vertical-align: middle;\n",
              "    }\n",
              "\n",
              "    .dataframe tbody tr th {\n",
              "        vertical-align: top;\n",
              "    }\n",
              "\n",
              "    .dataframe thead th {\n",
              "        text-align: right;\n",
              "    }\n",
              "</style>\n",
              "<table border=\"1\" class=\"dataframe\">\n",
              "  <thead>\n",
              "    <tr style=\"text-align: right;\">\n",
              "      <th></th>\n",
              "      <th>nome</th>\n",
              "      <th>cognome</th>\n",
              "      <th>altezza</th>\n",
              "      <th>capelli</th>\n",
              "      <th>eta</th>\n",
              "      <th>media_voti</th>\n",
              "    </tr>\n",
              "  </thead>\n",
              "  <tbody>\n",
              "    <tr>\n",
              "      <th>0</th>\n",
              "      <td>Alessandro</td>\n",
              "      <td>Rossi</td>\n",
              "      <td>1.82</td>\n",
              "      <td>castani</td>\n",
              "      <td>19</td>\n",
              "      <td>8.09</td>\n",
              "    </tr>\n",
              "    <tr>\n",
              "      <th>7</th>\n",
              "      <td>Luca</td>\n",
              "      <td>Marchetti</td>\n",
              "      <td>1.75</td>\n",
              "      <td>castani</td>\n",
              "      <td>19</td>\n",
              "      <td>8.82</td>\n",
              "    </tr>\n",
              "    <tr>\n",
              "      <th>18</th>\n",
              "      <td>Laura</td>\n",
              "      <td>Ferrara</td>\n",
              "      <td>1.78</td>\n",
              "      <td>rossi</td>\n",
              "      <td>19</td>\n",
              "      <td>9.87</td>\n",
              "    </tr>\n",
              "    <tr>\n",
              "      <th>19</th>\n",
              "      <td>Marco</td>\n",
              "      <td>Bruno</td>\n",
              "      <td>1.65</td>\n",
              "      <td>neri</td>\n",
              "      <td>19</td>\n",
              "      <td>7.41</td>\n",
              "    </tr>\n",
              "  </tbody>\n",
              "</table>\n",
              "</div>"
            ],
            "text/plain": [
              "          nome    cognome  altezza  capelli  eta  media_voti\n",
              "0   Alessandro      Rossi     1.82  castani   19        8.09\n",
              "7         Luca  Marchetti     1.75  castani   19        8.82\n",
              "18       Laura    Ferrara     1.78    rossi   19        9.87\n",
              "19       Marco      Bruno     1.65     neri   19        7.41"
            ]
          },
          "execution_count": 12,
          "metadata": {},
          "output_type": "execute_result"
        }
      ],
      "source": [
        "df[df[\"eta\"] > 18]"
      ]
    },
    {
      "cell_type": "markdown",
      "metadata": {},
      "source": [
        "Scrivi un codice per scoprire chi ha la media superiore a 8.5"
      ]
    },
    {
      "cell_type": "code",
      "execution_count": 32,
      "metadata": {},
      "outputs": [],
      "source": [
        "# Scrivi qui il codice per risolvere l'esercizio 2"
      ]
    },
    {
      "cell_type": "markdown",
      "metadata": {},
      "source": [
        "Selezioniamo una riga dalla sua posizione"
      ]
    },
    {
      "cell_type": "markdown",
      "metadata": {},
      "source": [
        "Selezioniamo la prima riga"
      ]
    },
    {
      "cell_type": "code",
      "execution_count": 29,
      "metadata": {},
      "outputs": [
        {
          "data": {
            "text/plain": [
              "nome          Alessandro\n",
              "cognome            Rossi\n",
              "altezza             1.82\n",
              "capelli          castani\n",
              "eta                   19\n",
              "media_voti          8.09\n",
              "Name: 0, dtype: object"
            ]
          },
          "execution_count": 29,
          "metadata": {},
          "output_type": "execute_result"
        }
      ],
      "source": [
        "df.loc[0]"
      ]
    },
    {
      "cell_type": "code",
      "execution_count": 30,
      "metadata": {},
      "outputs": [
        {
          "data": {
            "text/plain": [
              "eta    19\n",
              "Name: 0, dtype: object"
            ]
          },
          "execution_count": 30,
          "metadata": {},
          "output_type": "execute_result"
        }
      ],
      "source": [
        "df.loc[0, [\"eta\"]]"
      ]
    },
    {
      "cell_type": "markdown",
      "metadata": {},
      "source": [
        "Seleziniamo le righe dalla quarta alla sesta"
      ]
    },
    {
      "cell_type": "code",
      "execution_count": 31,
      "metadata": {},
      "outputs": [
        {
          "data": {
            "text/html": [
              "<div>\n",
              "<style scoped>\n",
              "    .dataframe tbody tr th:only-of-type {\n",
              "        vertical-align: middle;\n",
              "    }\n",
              "\n",
              "    .dataframe tbody tr th {\n",
              "        vertical-align: top;\n",
              "    }\n",
              "\n",
              "    .dataframe thead th {\n",
              "        text-align: right;\n",
              "    }\n",
              "</style>\n",
              "<table border=\"1\" class=\"dataframe\">\n",
              "  <thead>\n",
              "    <tr style=\"text-align: right;\">\n",
              "      <th></th>\n",
              "      <th>nome</th>\n",
              "      <th>cognome</th>\n",
              "      <th>altezza</th>\n",
              "      <th>capelli</th>\n",
              "      <th>eta</th>\n",
              "      <th>media_voti</th>\n",
              "    </tr>\n",
              "  </thead>\n",
              "  <tbody>\n",
              "    <tr>\n",
              "      <th>3</th>\n",
              "      <td>Davide</td>\n",
              "      <td>Russo</td>\n",
              "      <td>1.78</td>\n",
              "      <td>neri</td>\n",
              "      <td>15</td>\n",
              "      <td>7.71</td>\n",
              "    </tr>\n",
              "    <tr>\n",
              "      <th>4</th>\n",
              "      <td>Elena</td>\n",
              "      <td>Esposito</td>\n",
              "      <td>1.65</td>\n",
              "      <td>rossi</td>\n",
              "      <td>18</td>\n",
              "      <td>7.95</td>\n",
              "    </tr>\n",
              "    <tr>\n",
              "      <th>5</th>\n",
              "      <td>Federico</td>\n",
              "      <td>Colombo</td>\n",
              "      <td>1.82</td>\n",
              "      <td>neri</td>\n",
              "      <td>14</td>\n",
              "      <td>6.98</td>\n",
              "    </tr>\n",
              "  </tbody>\n",
              "</table>\n",
              "</div>"
            ],
            "text/plain": [
              "       nome   cognome  altezza capelli  eta  media_voti\n",
              "3    Davide     Russo     1.78    neri   15        7.71\n",
              "4     Elena  Esposito     1.65   rossi   18        7.95\n",
              "5  Federico   Colombo     1.82    neri   14        6.98"
            ]
          },
          "execution_count": 31,
          "metadata": {},
          "output_type": "execute_result"
        }
      ],
      "source": [
        "df.loc[3:5]"
      ]
    },
    {
      "cell_type": "markdown",
      "metadata": {
        "id": "ALjOOyB7jfpc"
      },
      "source": [
        "Scrivi un codice per vedere quanto è alto il settimo ragazzo del dataframe"
      ]
    },
    {
      "cell_type": "code",
      "execution_count": 33,
      "metadata": {
        "id": "jf8Tn6BPjg7b"
      },
      "outputs": [],
      "source": [
        "# Scrivi qui il codice per risolvere l'esercizio 3"
      ]
    },
    {
      "cell_type": "markdown",
      "metadata": {
        "id": "k3egi3SCjjob"
      },
      "source": [
        "### Proviamo a trovarci qualche statistica (media, moda...)"
      ]
    },
    {
      "cell_type": "code",
      "execution_count": 14,
      "metadata": {
        "id": "_3eI2T-0jkXS"
      },
      "outputs": [
        {
          "data": {
            "text/plain": [
              "7.716500000000001"
            ]
          },
          "execution_count": 14,
          "metadata": {},
          "output_type": "execute_result"
        }
      ],
      "source": [
        "df[\"media_voti\"].mean()"
      ]
    },
    {
      "cell_type": "code",
      "execution_count": 15,
      "metadata": {
        "colab": {
          "base_uri": "https://localhost:8080/"
        },
        "id": "97fyX1aEnMHZ",
        "outputId": "d24e1d10-a591-43ce-fc38-060d0c7464ab"
      },
      "outputs": [
        {
          "data": {
            "text/plain": [
              "7.51"
            ]
          },
          "execution_count": 15,
          "metadata": {},
          "output_type": "execute_result"
        }
      ],
      "source": [
        "df[\"media_voti\"].median()"
      ]
    },
    {
      "cell_type": "code",
      "execution_count": 16,
      "metadata": {
        "id": "x1j8JeVpjlRO"
      },
      "outputs": [
        {
          "data": {
            "text/plain": [
              "6.23"
            ]
          },
          "execution_count": 16,
          "metadata": {},
          "output_type": "execute_result"
        }
      ],
      "source": [
        "df[\"media_voti\"].min()"
      ]
    },
    {
      "cell_type": "code",
      "execution_count": 17,
      "metadata": {
        "id": "wgCFKwq6jmBF"
      },
      "outputs": [
        {
          "data": {
            "text/plain": [
              "16.35"
            ]
          },
          "execution_count": 17,
          "metadata": {},
          "output_type": "execute_result"
        }
      ],
      "source": [
        "df[\"eta\"].mean()"
      ]
    },
    {
      "cell_type": "code",
      "execution_count": 19,
      "metadata": {},
      "outputs": [
        {
          "data": {
            "text/plain": [
              "16.0"
            ]
          },
          "execution_count": 19,
          "metadata": {},
          "output_type": "execute_result"
        }
      ],
      "source": [
        "df[\"eta\"].median()"
      ]
    },
    {
      "cell_type": "code",
      "execution_count": 20,
      "metadata": {
        "id": "jSWqbjLmjmrl"
      },
      "outputs": [
        {
          "data": {
            "text/plain": [
              "19"
            ]
          },
          "execution_count": 20,
          "metadata": {},
          "output_type": "execute_result"
        }
      ],
      "source": [
        "df[\"eta\"].max()"
      ]
    },
    {
      "cell_type": "markdown",
      "metadata": {
        "id": "JbT9TRnbjn2L"
      },
      "source": [
        "### Scrivi un codice per mostrare l'altezza media e l'altezza massima"
      ]
    },
    {
      "cell_type": "code",
      "execution_count": 21,
      "metadata": {
        "id": "UWGlkiMmjpI3"
      },
      "outputs": [],
      "source": [
        "# Scrivi qui il codice per risolvere l'esercizio 3"
      ]
    },
    {
      "cell_type": "markdown",
      "metadata": {
        "id": "hcl6cWk3jqxl"
      },
      "source": [
        "### Proviamo a fare la media dei nomi. Ha senso?"
      ]
    },
    {
      "cell_type": "code",
      "execution_count": null,
      "metadata": {
        "id": "8OJ8fmFPjrx1"
      },
      "outputs": [],
      "source": [
        "df[\"nome\"].mean()"
      ]
    },
    {
      "cell_type": "markdown",
      "metadata": {
        "id": "pgaej55pjtNv"
      },
      "source": [
        "### Tutte queste informazioni possiamo trovarle tutte usando la funzione \"describe()\""
      ]
    },
    {
      "cell_type": "code",
      "execution_count": 22,
      "metadata": {
        "id": "qONd1JAFjs9Q"
      },
      "outputs": [
        {
          "data": {
            "text/html": [
              "<div>\n",
              "<style scoped>\n",
              "    .dataframe tbody tr th:only-of-type {\n",
              "        vertical-align: middle;\n",
              "    }\n",
              "\n",
              "    .dataframe tbody tr th {\n",
              "        vertical-align: top;\n",
              "    }\n",
              "\n",
              "    .dataframe thead th {\n",
              "        text-align: right;\n",
              "    }\n",
              "</style>\n",
              "<table border=\"1\" class=\"dataframe\">\n",
              "  <thead>\n",
              "    <tr style=\"text-align: right;\">\n",
              "      <th></th>\n",
              "      <th>altezza</th>\n",
              "      <th>eta</th>\n",
              "      <th>media_voti</th>\n",
              "    </tr>\n",
              "  </thead>\n",
              "  <tbody>\n",
              "    <tr>\n",
              "      <th>count</th>\n",
              "      <td>20.000000</td>\n",
              "      <td>20.000000</td>\n",
              "      <td>20.000000</td>\n",
              "    </tr>\n",
              "    <tr>\n",
              "      <th>mean</th>\n",
              "      <td>1.730000</td>\n",
              "      <td>16.350000</td>\n",
              "      <td>7.716500</td>\n",
              "    </tr>\n",
              "    <tr>\n",
              "      <th>std</th>\n",
              "      <td>0.070785</td>\n",
              "      <td>1.926956</td>\n",
              "      <td>1.160704</td>\n",
              "    </tr>\n",
              "    <tr>\n",
              "      <th>min</th>\n",
              "      <td>1.650000</td>\n",
              "      <td>14.000000</td>\n",
              "      <td>6.230000</td>\n",
              "    </tr>\n",
              "    <tr>\n",
              "      <th>25%</th>\n",
              "      <td>1.650000</td>\n",
              "      <td>14.750000</td>\n",
              "      <td>6.725000</td>\n",
              "    </tr>\n",
              "    <tr>\n",
              "      <th>50%</th>\n",
              "      <td>1.750000</td>\n",
              "      <td>16.000000</td>\n",
              "      <td>7.510000</td>\n",
              "    </tr>\n",
              "    <tr>\n",
              "      <th>75%</th>\n",
              "      <td>1.780000</td>\n",
              "      <td>18.000000</td>\n",
              "      <td>8.752500</td>\n",
              "    </tr>\n",
              "    <tr>\n",
              "      <th>max</th>\n",
              "      <td>1.820000</td>\n",
              "      <td>19.000000</td>\n",
              "      <td>9.890000</td>\n",
              "    </tr>\n",
              "  </tbody>\n",
              "</table>\n",
              "</div>"
            ],
            "text/plain": [
              "         altezza        eta  media_voti\n",
              "count  20.000000  20.000000   20.000000\n",
              "mean    1.730000  16.350000    7.716500\n",
              "std     0.070785   1.926956    1.160704\n",
              "min     1.650000  14.000000    6.230000\n",
              "25%     1.650000  14.750000    6.725000\n",
              "50%     1.750000  16.000000    7.510000\n",
              "75%     1.780000  18.000000    8.752500\n",
              "max     1.820000  19.000000    9.890000"
            ]
          },
          "execution_count": 22,
          "metadata": {},
          "output_type": "execute_result"
        }
      ],
      "source": [
        "df.describe()"
      ]
    },
    {
      "cell_type": "markdown",
      "metadata": {
        "id": "jf0T8ijnjvvR"
      },
      "source": [
        "### Proviamo a modificare la nostra tabella"
      ]
    },
    {
      "cell_type": "markdown",
      "metadata": {
        "id": "8X05dSfqjw7R"
      },
      "source": [
        "Aggiungiamo una colonna per il colore degli occhi"
      ]
    },
    {
      "cell_type": "code",
      "execution_count": 23,
      "metadata": {
        "id": "DJ3FuS7ajyDw"
      },
      "outputs": [],
      "source": [
        "df[\"occhi\"] = [\n",
        "    \"neri\",\n",
        "    \"azzurri\",\n",
        "    \"marroni\",\n",
        "    \"azzurri\",\n",
        "    \"marroni\",\n",
        "    \"marroni\",\n",
        "    \"verdi\",\n",
        "    \"marroni\",\n",
        "    \"marroni\",\n",
        "    \"marroni\",\n",
        "    \"verdi\",\n",
        "    \"neri\",\n",
        "    \"neri\",\n",
        "    \"verdi\",\n",
        "    \"verdi\",\n",
        "    \"neri\",\n",
        "    \"azzurri\",\n",
        "    \"verdi\",\n",
        "    \"marroni\",\n",
        "    \"neri\",\n",
        "]"
      ]
    },
    {
      "cell_type": "markdown",
      "metadata": {
        "id": "uQIOkLbjj0Pi"
      },
      "source": [
        "Controlliamo se è stata inserita"
      ]
    },
    {
      "cell_type": "code",
      "execution_count": 24,
      "metadata": {
        "id": "57Ir3q6Ojzq_"
      },
      "outputs": [
        {
          "data": {
            "text/html": [
              "<div>\n",
              "<style scoped>\n",
              "    .dataframe tbody tr th:only-of-type {\n",
              "        vertical-align: middle;\n",
              "    }\n",
              "\n",
              "    .dataframe tbody tr th {\n",
              "        vertical-align: top;\n",
              "    }\n",
              "\n",
              "    .dataframe thead th {\n",
              "        text-align: right;\n",
              "    }\n",
              "</style>\n",
              "<table border=\"1\" class=\"dataframe\">\n",
              "  <thead>\n",
              "    <tr style=\"text-align: right;\">\n",
              "      <th></th>\n",
              "      <th>nome</th>\n",
              "      <th>cognome</th>\n",
              "      <th>altezza</th>\n",
              "      <th>capelli</th>\n",
              "      <th>eta</th>\n",
              "      <th>media_voti</th>\n",
              "      <th>occhi</th>\n",
              "    </tr>\n",
              "  </thead>\n",
              "  <tbody>\n",
              "    <tr>\n",
              "      <th>0</th>\n",
              "      <td>Alessandro</td>\n",
              "      <td>Rossi</td>\n",
              "      <td>1.82</td>\n",
              "      <td>castani</td>\n",
              "      <td>19</td>\n",
              "      <td>8.09</td>\n",
              "      <td>neri</td>\n",
              "    </tr>\n",
              "    <tr>\n",
              "      <th>1</th>\n",
              "      <td>Beatrice</td>\n",
              "      <td>Bianchi</td>\n",
              "      <td>1.65</td>\n",
              "      <td>neri</td>\n",
              "      <td>17</td>\n",
              "      <td>6.49</td>\n",
              "      <td>azzurri</td>\n",
              "    </tr>\n",
              "    <tr>\n",
              "      <th>2</th>\n",
              "      <td>Cristian</td>\n",
              "      <td>Ferrari</td>\n",
              "      <td>1.75</td>\n",
              "      <td>castani</td>\n",
              "      <td>14</td>\n",
              "      <td>8.96</td>\n",
              "      <td>marroni</td>\n",
              "    </tr>\n",
              "    <tr>\n",
              "      <th>3</th>\n",
              "      <td>Davide</td>\n",
              "      <td>Russo</td>\n",
              "      <td>1.78</td>\n",
              "      <td>neri</td>\n",
              "      <td>15</td>\n",
              "      <td>7.71</td>\n",
              "      <td>azzurri</td>\n",
              "    </tr>\n",
              "    <tr>\n",
              "      <th>4</th>\n",
              "      <td>Elena</td>\n",
              "      <td>Esposito</td>\n",
              "      <td>1.65</td>\n",
              "      <td>rossi</td>\n",
              "      <td>18</td>\n",
              "      <td>7.95</td>\n",
              "      <td>marroni</td>\n",
              "    </tr>\n",
              "  </tbody>\n",
              "</table>\n",
              "</div>"
            ],
            "text/plain": [
              "         nome   cognome  altezza  capelli  eta  media_voti    occhi\n",
              "0  Alessandro     Rossi     1.82  castani   19        8.09     neri\n",
              "1    Beatrice   Bianchi     1.65     neri   17        6.49  azzurri\n",
              "2    Cristian   Ferrari     1.75  castani   14        8.96  marroni\n",
              "3      Davide     Russo     1.78     neri   15        7.71  azzurri\n",
              "4       Elena  Esposito     1.65    rossi   18        7.95  marroni"
            ]
          },
          "execution_count": 24,
          "metadata": {},
          "output_type": "execute_result"
        }
      ],
      "source": [
        "df.head()"
      ]
    },
    {
      "cell_type": "markdown",
      "metadata": {
        "id": "TTgncSw8j3-W"
      },
      "source": [
        "Eliminiamo la colonna dei capelli"
      ]
    },
    {
      "cell_type": "code",
      "execution_count": 25,
      "metadata": {
        "id": "oFmzndd8EfcG"
      },
      "outputs": [
        {
          "data": {
            "text/html": [
              "<div>\n",
              "<style scoped>\n",
              "    .dataframe tbody tr th:only-of-type {\n",
              "        vertical-align: middle;\n",
              "    }\n",
              "\n",
              "    .dataframe tbody tr th {\n",
              "        vertical-align: top;\n",
              "    }\n",
              "\n",
              "    .dataframe thead th {\n",
              "        text-align: right;\n",
              "    }\n",
              "</style>\n",
              "<table border=\"1\" class=\"dataframe\">\n",
              "  <thead>\n",
              "    <tr style=\"text-align: right;\">\n",
              "      <th></th>\n",
              "      <th>nome</th>\n",
              "      <th>cognome</th>\n",
              "      <th>altezza</th>\n",
              "      <th>eta</th>\n",
              "      <th>media_voti</th>\n",
              "      <th>occhi</th>\n",
              "    </tr>\n",
              "  </thead>\n",
              "  <tbody>\n",
              "    <tr>\n",
              "      <th>0</th>\n",
              "      <td>Alessandro</td>\n",
              "      <td>Rossi</td>\n",
              "      <td>1.82</td>\n",
              "      <td>19</td>\n",
              "      <td>8.09</td>\n",
              "      <td>neri</td>\n",
              "    </tr>\n",
              "    <tr>\n",
              "      <th>1</th>\n",
              "      <td>Beatrice</td>\n",
              "      <td>Bianchi</td>\n",
              "      <td>1.65</td>\n",
              "      <td>17</td>\n",
              "      <td>6.49</td>\n",
              "      <td>azzurri</td>\n",
              "    </tr>\n",
              "    <tr>\n",
              "      <th>2</th>\n",
              "      <td>Cristian</td>\n",
              "      <td>Ferrari</td>\n",
              "      <td>1.75</td>\n",
              "      <td>14</td>\n",
              "      <td>8.96</td>\n",
              "      <td>marroni</td>\n",
              "    </tr>\n",
              "    <tr>\n",
              "      <th>3</th>\n",
              "      <td>Davide</td>\n",
              "      <td>Russo</td>\n",
              "      <td>1.78</td>\n",
              "      <td>15</td>\n",
              "      <td>7.71</td>\n",
              "      <td>azzurri</td>\n",
              "    </tr>\n",
              "    <tr>\n",
              "      <th>4</th>\n",
              "      <td>Elena</td>\n",
              "      <td>Esposito</td>\n",
              "      <td>1.65</td>\n",
              "      <td>18</td>\n",
              "      <td>7.95</td>\n",
              "      <td>marroni</td>\n",
              "    </tr>\n",
              "  </tbody>\n",
              "</table>\n",
              "</div>"
            ],
            "text/plain": [
              "         nome   cognome  altezza  eta  media_voti    occhi\n",
              "0  Alessandro     Rossi     1.82   19        8.09     neri\n",
              "1    Beatrice   Bianchi     1.65   17        6.49  azzurri\n",
              "2    Cristian   Ferrari     1.75   14        8.96  marroni\n",
              "3      Davide     Russo     1.78   15        7.71  azzurri\n",
              "4       Elena  Esposito     1.65   18        7.95  marroni"
            ]
          },
          "execution_count": 25,
          "metadata": {},
          "output_type": "execute_result"
        }
      ],
      "source": [
        "df.drop(\"capelli\", axis=1, inplace=True)\n",
        "df.head()"
      ]
    },
    {
      "cell_type": "markdown",
      "metadata": {
        "id": "3MJtKXIUnC__"
      },
      "source": [
        "## Modifichiamo qualche valore"
      ]
    },
    {
      "cell_type": "code",
      "execution_count": 26,
      "metadata": {
        "colab": {
          "base_uri": "https://localhost:8080/",
          "height": 676
        },
        "id": "voBGfTyonINv",
        "outputId": "d31246d7-563b-48fe-e521-f8af03d8a597"
      },
      "outputs": [
        {
          "data": {
            "text/html": [
              "<div>\n",
              "<style scoped>\n",
              "    .dataframe tbody tr th:only-of-type {\n",
              "        vertical-align: middle;\n",
              "    }\n",
              "\n",
              "    .dataframe tbody tr th {\n",
              "        vertical-align: top;\n",
              "    }\n",
              "\n",
              "    .dataframe thead th {\n",
              "        text-align: right;\n",
              "    }\n",
              "</style>\n",
              "<table border=\"1\" class=\"dataframe\">\n",
              "  <thead>\n",
              "    <tr style=\"text-align: right;\">\n",
              "      <th></th>\n",
              "      <th>nome</th>\n",
              "      <th>cognome</th>\n",
              "      <th>altezza</th>\n",
              "      <th>eta</th>\n",
              "      <th>media_voti</th>\n",
              "      <th>occhi</th>\n",
              "    </tr>\n",
              "  </thead>\n",
              "  <tbody>\n",
              "    <tr>\n",
              "      <th>0</th>\n",
              "      <td>Alessandro</td>\n",
              "      <td>Rossi</td>\n",
              "      <td>1.82</td>\n",
              "      <td>19</td>\n",
              "      <td>8.09</td>\n",
              "      <td>neri</td>\n",
              "    </tr>\n",
              "    <tr>\n",
              "      <th>1</th>\n",
              "      <td>Beatrice</td>\n",
              "      <td>Bianchi</td>\n",
              "      <td>1.65</td>\n",
              "      <td>17</td>\n",
              "      <td>6.49</td>\n",
              "      <td>azzurri</td>\n",
              "    </tr>\n",
              "    <tr>\n",
              "      <th>2</th>\n",
              "      <td>Cristian</td>\n",
              "      <td>Ferrari</td>\n",
              "      <td>1.75</td>\n",
              "      <td>14</td>\n",
              "      <td>8.96</td>\n",
              "      <td>marroni</td>\n",
              "    </tr>\n",
              "    <tr>\n",
              "      <th>3</th>\n",
              "      <td>Davide</td>\n",
              "      <td>Russo</td>\n",
              "      <td>1.78</td>\n",
              "      <td>15</td>\n",
              "      <td>7.71</td>\n",
              "      <td>azzurri</td>\n",
              "    </tr>\n",
              "    <tr>\n",
              "      <th>4</th>\n",
              "      <td>Elena</td>\n",
              "      <td>Esposito</td>\n",
              "      <td>1.65</td>\n",
              "      <td>18</td>\n",
              "      <td>7.95</td>\n",
              "      <td>marroni</td>\n",
              "    </tr>\n",
              "    <tr>\n",
              "      <th>5</th>\n",
              "      <td>Federico</td>\n",
              "      <td>Colombo</td>\n",
              "      <td>1.82</td>\n",
              "      <td>14</td>\n",
              "      <td>6.98</td>\n",
              "      <td>marroni</td>\n",
              "    </tr>\n",
              "    <tr>\n",
              "      <th>6</th>\n",
              "      <td>Giulia</td>\n",
              "      <td>Conti</td>\n",
              "      <td>1.65</td>\n",
              "      <td>14</td>\n",
              "      <td>6.78</td>\n",
              "      <td>verdi</td>\n",
              "    </tr>\n",
              "    <tr>\n",
              "      <th>7</th>\n",
              "      <td>Luca</td>\n",
              "      <td>Marchetti</td>\n",
              "      <td>1.75</td>\n",
              "      <td>19</td>\n",
              "      <td>8.82</td>\n",
              "      <td>marroni</td>\n",
              "    </tr>\n",
              "    <tr>\n",
              "      <th>8</th>\n",
              "      <td>Martina</td>\n",
              "      <td>De Luca</td>\n",
              "      <td>1.78</td>\n",
              "      <td>18</td>\n",
              "      <td>7.37</td>\n",
              "      <td>marroni</td>\n",
              "    </tr>\n",
              "    <tr>\n",
              "      <th>9</th>\n",
              "      <td>Nicola</td>\n",
              "      <td>Marino</td>\n",
              "      <td>1.65</td>\n",
              "      <td>18</td>\n",
              "      <td>6.23</td>\n",
              "      <td>marroni</td>\n",
              "    </tr>\n",
              "    <tr>\n",
              "      <th>10</th>\n",
              "      <td>Roberta</td>\n",
              "      <td>Greco</td>\n",
              "      <td>1.82</td>\n",
              "      <td>17</td>\n",
              "      <td>6.93</td>\n",
              "      <td>verdi</td>\n",
              "    </tr>\n",
              "    <tr>\n",
              "      <th>11</th>\n",
              "      <td>Stefano</td>\n",
              "      <td>Moretti</td>\n",
              "      <td>1.65</td>\n",
              "      <td>15</td>\n",
              "      <td>6.56</td>\n",
              "      <td>neri</td>\n",
              "    </tr>\n",
              "    <tr>\n",
              "      <th>12</th>\n",
              "      <td>Valentina</td>\n",
              "      <td>Barbieri</td>\n",
              "      <td>1.75</td>\n",
              "      <td>16</td>\n",
              "      <td>9.89</td>\n",
              "      <td>neri</td>\n",
              "    </tr>\n",
              "    <tr>\n",
              "      <th>13</th>\n",
              "      <td>Andrea</td>\n",
              "      <td>Fontana</td>\n",
              "      <td>1.78</td>\n",
              "      <td>15</td>\n",
              "      <td>6.48</td>\n",
              "      <td>verdi</td>\n",
              "    </tr>\n",
              "    <tr>\n",
              "      <th>14</th>\n",
              "      <td>Chiara</td>\n",
              "      <td>Ricci</td>\n",
              "      <td>1.65</td>\n",
              "      <td>16</td>\n",
              "      <td>9.04</td>\n",
              "      <td>verdi</td>\n",
              "    </tr>\n",
              "    <tr>\n",
              "      <th>15</th>\n",
              "      <td>Emanuele</td>\n",
              "      <td>Mariani</td>\n",
              "      <td>1.82</td>\n",
              "      <td>16</td>\n",
              "      <td>7.61</td>\n",
              "      <td>neri</td>\n",
              "    </tr>\n",
              "    <tr>\n",
              "      <th>16</th>\n",
              "      <td>Francesca</td>\n",
              "      <td>Rizzo</td>\n",
              "      <td>1.65</td>\n",
              "      <td>14</td>\n",
              "      <td>8.73</td>\n",
              "      <td>azzurri</td>\n",
              "    </tr>\n",
              "    <tr>\n",
              "      <th>17</th>\n",
              "      <td>Giovanni</td>\n",
              "      <td>De Santis</td>\n",
              "      <td>1.75</td>\n",
              "      <td>14</td>\n",
              "      <td>6.43</td>\n",
              "      <td>verdi</td>\n",
              "    </tr>\n",
              "    <tr>\n",
              "      <th>18</th>\n",
              "      <td>Laura</td>\n",
              "      <td>Ferrara</td>\n",
              "      <td>1.78</td>\n",
              "      <td>19</td>\n",
              "      <td>9.87</td>\n",
              "      <td>marroni</td>\n",
              "    </tr>\n",
              "    <tr>\n",
              "      <th>19</th>\n",
              "      <td>Marco</td>\n",
              "      <td>Bruno</td>\n",
              "      <td>1.65</td>\n",
              "      <td>19</td>\n",
              "      <td>7.41</td>\n",
              "      <td>neri</td>\n",
              "    </tr>\n",
              "  </tbody>\n",
              "</table>\n",
              "</div>"
            ],
            "text/plain": [
              "          nome    cognome  altezza  eta  media_voti    occhi\n",
              "0   Alessandro      Rossi     1.82   19        8.09     neri\n",
              "1     Beatrice    Bianchi     1.65   17        6.49  azzurri\n",
              "2     Cristian    Ferrari     1.75   14        8.96  marroni\n",
              "3       Davide      Russo     1.78   15        7.71  azzurri\n",
              "4        Elena   Esposito     1.65   18        7.95  marroni\n",
              "5     Federico    Colombo     1.82   14        6.98  marroni\n",
              "6       Giulia      Conti     1.65   14        6.78    verdi\n",
              "7         Luca  Marchetti     1.75   19        8.82  marroni\n",
              "8      Martina    De Luca     1.78   18        7.37  marroni\n",
              "9       Nicola     Marino     1.65   18        6.23  marroni\n",
              "10     Roberta      Greco     1.82   17        6.93    verdi\n",
              "11     Stefano    Moretti     1.65   15        6.56     neri\n",
              "12   Valentina   Barbieri     1.75   16        9.89     neri\n",
              "13      Andrea    Fontana     1.78   15        6.48    verdi\n",
              "14      Chiara      Ricci     1.65   16        9.04    verdi\n",
              "15    Emanuele    Mariani     1.82   16        7.61     neri\n",
              "16   Francesca      Rizzo     1.65   14        8.73  azzurri\n",
              "17    Giovanni  De Santis     1.75   14        6.43    verdi\n",
              "18       Laura    Ferrara     1.78   19        9.87  marroni\n",
              "19       Marco      Bruno     1.65   19        7.41     neri"
            ]
          },
          "execution_count": 26,
          "metadata": {},
          "output_type": "execute_result"
        }
      ],
      "source": [
        "df"
      ]
    },
    {
      "cell_type": "markdown",
      "metadata": {},
      "source": [
        "Cambiamo il valore dell'età del primo ragazzo"
      ]
    },
    {
      "cell_type": "code",
      "execution_count": 28,
      "metadata": {
        "id": "sE9ByNr5nCZH"
      },
      "outputs": [
        {
          "name": "stderr",
          "output_type": "stream",
          "text": [
            "/tmp/ipykernel_22607/532546328.py:1: SettingWithCopyWarning: \n",
            "A value is trying to be set on a copy of a slice from a DataFrame\n",
            "\n",
            "See the caveats in the documentation: https://pandas.pydata.org/pandas-docs/stable/user_guide/indexing.html#returning-a-view-versus-a-copy\n",
            "  df[\"eta\"][0] = 20\n"
          ]
        }
      ],
      "source": [
        "df[\"eta\"][0] = 20"
      ]
    },
    {
      "cell_type": "markdown",
      "metadata": {},
      "source": [
        "Controlliamo che lo abbia cambiato"
      ]
    },
    {
      "cell_type": "code",
      "execution_count": 31,
      "metadata": {},
      "outputs": [
        {
          "data": {
            "text/html": [
              "<div>\n",
              "<style scoped>\n",
              "    .dataframe tbody tr th:only-of-type {\n",
              "        vertical-align: middle;\n",
              "    }\n",
              "\n",
              "    .dataframe tbody tr th {\n",
              "        vertical-align: top;\n",
              "    }\n",
              "\n",
              "    .dataframe thead th {\n",
              "        text-align: right;\n",
              "    }\n",
              "</style>\n",
              "<table border=\"1\" class=\"dataframe\">\n",
              "  <thead>\n",
              "    <tr style=\"text-align: right;\">\n",
              "      <th></th>\n",
              "      <th>nome</th>\n",
              "      <th>cognome</th>\n",
              "      <th>altezza</th>\n",
              "      <th>eta</th>\n",
              "      <th>media_voti</th>\n",
              "      <th>occhi</th>\n",
              "    </tr>\n",
              "  </thead>\n",
              "  <tbody>\n",
              "    <tr>\n",
              "      <th>0</th>\n",
              "      <td>Alessandro</td>\n",
              "      <td>Rossi</td>\n",
              "      <td>1.82</td>\n",
              "      <td>40</td>\n",
              "      <td>8.09</td>\n",
              "      <td>neri</td>\n",
              "    </tr>\n",
              "    <tr>\n",
              "      <th>1</th>\n",
              "      <td>Beatrice</td>\n",
              "      <td>Bianchi</td>\n",
              "      <td>1.65</td>\n",
              "      <td>34</td>\n",
              "      <td>6.49</td>\n",
              "      <td>azzurri</td>\n",
              "    </tr>\n",
              "    <tr>\n",
              "      <th>2</th>\n",
              "      <td>Cristian</td>\n",
              "      <td>Ferrari</td>\n",
              "      <td>1.75</td>\n",
              "      <td>28</td>\n",
              "      <td>8.96</td>\n",
              "      <td>marroni</td>\n",
              "    </tr>\n",
              "    <tr>\n",
              "      <th>3</th>\n",
              "      <td>Davide</td>\n",
              "      <td>Russo</td>\n",
              "      <td>1.78</td>\n",
              "      <td>30</td>\n",
              "      <td>7.71</td>\n",
              "      <td>azzurri</td>\n",
              "    </tr>\n",
              "    <tr>\n",
              "      <th>4</th>\n",
              "      <td>Elena</td>\n",
              "      <td>Esposito</td>\n",
              "      <td>1.65</td>\n",
              "      <td>36</td>\n",
              "      <td>7.95</td>\n",
              "      <td>marroni</td>\n",
              "    </tr>\n",
              "    <tr>\n",
              "      <th>5</th>\n",
              "      <td>Federico</td>\n",
              "      <td>Colombo</td>\n",
              "      <td>1.82</td>\n",
              "      <td>28</td>\n",
              "      <td>6.98</td>\n",
              "      <td>marroni</td>\n",
              "    </tr>\n",
              "    <tr>\n",
              "      <th>6</th>\n",
              "      <td>Giulia</td>\n",
              "      <td>Conti</td>\n",
              "      <td>1.65</td>\n",
              "      <td>28</td>\n",
              "      <td>6.78</td>\n",
              "      <td>verdi</td>\n",
              "    </tr>\n",
              "    <tr>\n",
              "      <th>7</th>\n",
              "      <td>Luca</td>\n",
              "      <td>Marchetti</td>\n",
              "      <td>1.75</td>\n",
              "      <td>38</td>\n",
              "      <td>8.82</td>\n",
              "      <td>marroni</td>\n",
              "    </tr>\n",
              "    <tr>\n",
              "      <th>8</th>\n",
              "      <td>Martina</td>\n",
              "      <td>De Luca</td>\n",
              "      <td>1.78</td>\n",
              "      <td>36</td>\n",
              "      <td>7.37</td>\n",
              "      <td>marroni</td>\n",
              "    </tr>\n",
              "    <tr>\n",
              "      <th>9</th>\n",
              "      <td>Nicola</td>\n",
              "      <td>Marino</td>\n",
              "      <td>1.65</td>\n",
              "      <td>36</td>\n",
              "      <td>6.23</td>\n",
              "      <td>marroni</td>\n",
              "    </tr>\n",
              "    <tr>\n",
              "      <th>10</th>\n",
              "      <td>Roberta</td>\n",
              "      <td>Greco</td>\n",
              "      <td>1.82</td>\n",
              "      <td>34</td>\n",
              "      <td>6.93</td>\n",
              "      <td>verdi</td>\n",
              "    </tr>\n",
              "    <tr>\n",
              "      <th>11</th>\n",
              "      <td>Stefano</td>\n",
              "      <td>Moretti</td>\n",
              "      <td>1.65</td>\n",
              "      <td>30</td>\n",
              "      <td>6.56</td>\n",
              "      <td>neri</td>\n",
              "    </tr>\n",
              "    <tr>\n",
              "      <th>12</th>\n",
              "      <td>Valentina</td>\n",
              "      <td>Barbieri</td>\n",
              "      <td>1.75</td>\n",
              "      <td>32</td>\n",
              "      <td>9.89</td>\n",
              "      <td>neri</td>\n",
              "    </tr>\n",
              "    <tr>\n",
              "      <th>13</th>\n",
              "      <td>Andrea</td>\n",
              "      <td>Fontana</td>\n",
              "      <td>1.78</td>\n",
              "      <td>30</td>\n",
              "      <td>6.48</td>\n",
              "      <td>verdi</td>\n",
              "    </tr>\n",
              "    <tr>\n",
              "      <th>14</th>\n",
              "      <td>Chiara</td>\n",
              "      <td>Ricci</td>\n",
              "      <td>1.65</td>\n",
              "      <td>32</td>\n",
              "      <td>9.04</td>\n",
              "      <td>verdi</td>\n",
              "    </tr>\n",
              "    <tr>\n",
              "      <th>15</th>\n",
              "      <td>Emanuele</td>\n",
              "      <td>Mariani</td>\n",
              "      <td>1.82</td>\n",
              "      <td>32</td>\n",
              "      <td>7.61</td>\n",
              "      <td>neri</td>\n",
              "    </tr>\n",
              "    <tr>\n",
              "      <th>16</th>\n",
              "      <td>Francesca</td>\n",
              "      <td>Rizzo</td>\n",
              "      <td>1.65</td>\n",
              "      <td>28</td>\n",
              "      <td>8.73</td>\n",
              "      <td>azzurri</td>\n",
              "    </tr>\n",
              "    <tr>\n",
              "      <th>17</th>\n",
              "      <td>Giovanni</td>\n",
              "      <td>De Santis</td>\n",
              "      <td>1.75</td>\n",
              "      <td>28</td>\n",
              "      <td>6.43</td>\n",
              "      <td>verdi</td>\n",
              "    </tr>\n",
              "    <tr>\n",
              "      <th>18</th>\n",
              "      <td>Laura</td>\n",
              "      <td>Ferrara</td>\n",
              "      <td>1.78</td>\n",
              "      <td>38</td>\n",
              "      <td>9.87</td>\n",
              "      <td>marroni</td>\n",
              "    </tr>\n",
              "    <tr>\n",
              "      <th>19</th>\n",
              "      <td>Marco</td>\n",
              "      <td>Bruno</td>\n",
              "      <td>1.65</td>\n",
              "      <td>38</td>\n",
              "      <td>7.41</td>\n",
              "      <td>neri</td>\n",
              "    </tr>\n",
              "  </tbody>\n",
              "</table>\n",
              "</div>"
            ],
            "text/plain": [
              "          nome    cognome  altezza  eta  media_voti    occhi\n",
              "0   Alessandro      Rossi     1.82   40        8.09     neri\n",
              "1     Beatrice    Bianchi     1.65   34        6.49  azzurri\n",
              "2     Cristian    Ferrari     1.75   28        8.96  marroni\n",
              "3       Davide      Russo     1.78   30        7.71  azzurri\n",
              "4        Elena   Esposito     1.65   36        7.95  marroni\n",
              "5     Federico    Colombo     1.82   28        6.98  marroni\n",
              "6       Giulia      Conti     1.65   28        6.78    verdi\n",
              "7         Luca  Marchetti     1.75   38        8.82  marroni\n",
              "8      Martina    De Luca     1.78   36        7.37  marroni\n",
              "9       Nicola     Marino     1.65   36        6.23  marroni\n",
              "10     Roberta      Greco     1.82   34        6.93    verdi\n",
              "11     Stefano    Moretti     1.65   30        6.56     neri\n",
              "12   Valentina   Barbieri     1.75   32        9.89     neri\n",
              "13      Andrea    Fontana     1.78   30        6.48    verdi\n",
              "14      Chiara      Ricci     1.65   32        9.04    verdi\n",
              "15    Emanuele    Mariani     1.82   32        7.61     neri\n",
              "16   Francesca      Rizzo     1.65   28        8.73  azzurri\n",
              "17    Giovanni  De Santis     1.75   28        6.43    verdi\n",
              "18       Laura    Ferrara     1.78   38        9.87  marroni\n",
              "19       Marco      Bruno     1.65   38        7.41     neri"
            ]
          },
          "execution_count": 31,
          "metadata": {},
          "output_type": "execute_result"
        }
      ],
      "source": [
        "df"
      ]
    },
    {
      "cell_type": "markdown",
      "metadata": {},
      "source": [
        "Modifichiamo tutta la colonna"
      ]
    },
    {
      "cell_type": "code",
      "execution_count": 32,
      "metadata": {},
      "outputs": [],
      "source": [
        "df[\"eta\"] = df[\"eta\"] * 2"
      ]
    },
    {
      "cell_type": "code",
      "execution_count": 33,
      "metadata": {},
      "outputs": [
        {
          "data": {
            "text/html": [
              "<div>\n",
              "<style scoped>\n",
              "    .dataframe tbody tr th:only-of-type {\n",
              "        vertical-align: middle;\n",
              "    }\n",
              "\n",
              "    .dataframe tbody tr th {\n",
              "        vertical-align: top;\n",
              "    }\n",
              "\n",
              "    .dataframe thead th {\n",
              "        text-align: right;\n",
              "    }\n",
              "</style>\n",
              "<table border=\"1\" class=\"dataframe\">\n",
              "  <thead>\n",
              "    <tr style=\"text-align: right;\">\n",
              "      <th></th>\n",
              "      <th>nome</th>\n",
              "      <th>cognome</th>\n",
              "      <th>altezza</th>\n",
              "      <th>eta</th>\n",
              "      <th>media_voti</th>\n",
              "      <th>occhi</th>\n",
              "    </tr>\n",
              "  </thead>\n",
              "  <tbody>\n",
              "    <tr>\n",
              "      <th>0</th>\n",
              "      <td>Alessandro</td>\n",
              "      <td>Rossi</td>\n",
              "      <td>1.82</td>\n",
              "      <td>80</td>\n",
              "      <td>8.09</td>\n",
              "      <td>neri</td>\n",
              "    </tr>\n",
              "    <tr>\n",
              "      <th>1</th>\n",
              "      <td>Beatrice</td>\n",
              "      <td>Bianchi</td>\n",
              "      <td>1.65</td>\n",
              "      <td>68</td>\n",
              "      <td>6.49</td>\n",
              "      <td>azzurri</td>\n",
              "    </tr>\n",
              "    <tr>\n",
              "      <th>2</th>\n",
              "      <td>Cristian</td>\n",
              "      <td>Ferrari</td>\n",
              "      <td>1.75</td>\n",
              "      <td>56</td>\n",
              "      <td>8.96</td>\n",
              "      <td>marroni</td>\n",
              "    </tr>\n",
              "    <tr>\n",
              "      <th>3</th>\n",
              "      <td>Davide</td>\n",
              "      <td>Russo</td>\n",
              "      <td>1.78</td>\n",
              "      <td>60</td>\n",
              "      <td>7.71</td>\n",
              "      <td>azzurri</td>\n",
              "    </tr>\n",
              "    <tr>\n",
              "      <th>4</th>\n",
              "      <td>Elena</td>\n",
              "      <td>Esposito</td>\n",
              "      <td>1.65</td>\n",
              "      <td>72</td>\n",
              "      <td>7.95</td>\n",
              "      <td>marroni</td>\n",
              "    </tr>\n",
              "    <tr>\n",
              "      <th>5</th>\n",
              "      <td>Federico</td>\n",
              "      <td>Colombo</td>\n",
              "      <td>1.82</td>\n",
              "      <td>56</td>\n",
              "      <td>6.98</td>\n",
              "      <td>marroni</td>\n",
              "    </tr>\n",
              "    <tr>\n",
              "      <th>6</th>\n",
              "      <td>Giulia</td>\n",
              "      <td>Conti</td>\n",
              "      <td>1.65</td>\n",
              "      <td>56</td>\n",
              "      <td>6.78</td>\n",
              "      <td>verdi</td>\n",
              "    </tr>\n",
              "    <tr>\n",
              "      <th>7</th>\n",
              "      <td>Luca</td>\n",
              "      <td>Marchetti</td>\n",
              "      <td>1.75</td>\n",
              "      <td>76</td>\n",
              "      <td>8.82</td>\n",
              "      <td>marroni</td>\n",
              "    </tr>\n",
              "    <tr>\n",
              "      <th>8</th>\n",
              "      <td>Martina</td>\n",
              "      <td>De Luca</td>\n",
              "      <td>1.78</td>\n",
              "      <td>72</td>\n",
              "      <td>7.37</td>\n",
              "      <td>marroni</td>\n",
              "    </tr>\n",
              "    <tr>\n",
              "      <th>9</th>\n",
              "      <td>Nicola</td>\n",
              "      <td>Marino</td>\n",
              "      <td>1.65</td>\n",
              "      <td>72</td>\n",
              "      <td>6.23</td>\n",
              "      <td>marroni</td>\n",
              "    </tr>\n",
              "    <tr>\n",
              "      <th>10</th>\n",
              "      <td>Roberta</td>\n",
              "      <td>Greco</td>\n",
              "      <td>1.82</td>\n",
              "      <td>68</td>\n",
              "      <td>6.93</td>\n",
              "      <td>verdi</td>\n",
              "    </tr>\n",
              "    <tr>\n",
              "      <th>11</th>\n",
              "      <td>Stefano</td>\n",
              "      <td>Moretti</td>\n",
              "      <td>1.65</td>\n",
              "      <td>60</td>\n",
              "      <td>6.56</td>\n",
              "      <td>neri</td>\n",
              "    </tr>\n",
              "    <tr>\n",
              "      <th>12</th>\n",
              "      <td>Valentina</td>\n",
              "      <td>Barbieri</td>\n",
              "      <td>1.75</td>\n",
              "      <td>64</td>\n",
              "      <td>9.89</td>\n",
              "      <td>neri</td>\n",
              "    </tr>\n",
              "    <tr>\n",
              "      <th>13</th>\n",
              "      <td>Andrea</td>\n",
              "      <td>Fontana</td>\n",
              "      <td>1.78</td>\n",
              "      <td>60</td>\n",
              "      <td>6.48</td>\n",
              "      <td>verdi</td>\n",
              "    </tr>\n",
              "    <tr>\n",
              "      <th>14</th>\n",
              "      <td>Chiara</td>\n",
              "      <td>Ricci</td>\n",
              "      <td>1.65</td>\n",
              "      <td>64</td>\n",
              "      <td>9.04</td>\n",
              "      <td>verdi</td>\n",
              "    </tr>\n",
              "    <tr>\n",
              "      <th>15</th>\n",
              "      <td>Emanuele</td>\n",
              "      <td>Mariani</td>\n",
              "      <td>1.82</td>\n",
              "      <td>64</td>\n",
              "      <td>7.61</td>\n",
              "      <td>neri</td>\n",
              "    </tr>\n",
              "    <tr>\n",
              "      <th>16</th>\n",
              "      <td>Francesca</td>\n",
              "      <td>Rizzo</td>\n",
              "      <td>1.65</td>\n",
              "      <td>56</td>\n",
              "      <td>8.73</td>\n",
              "      <td>azzurri</td>\n",
              "    </tr>\n",
              "    <tr>\n",
              "      <th>17</th>\n",
              "      <td>Giovanni</td>\n",
              "      <td>De Santis</td>\n",
              "      <td>1.75</td>\n",
              "      <td>56</td>\n",
              "      <td>6.43</td>\n",
              "      <td>verdi</td>\n",
              "    </tr>\n",
              "    <tr>\n",
              "      <th>18</th>\n",
              "      <td>Laura</td>\n",
              "      <td>Ferrara</td>\n",
              "      <td>1.78</td>\n",
              "      <td>76</td>\n",
              "      <td>9.87</td>\n",
              "      <td>marroni</td>\n",
              "    </tr>\n",
              "    <tr>\n",
              "      <th>19</th>\n",
              "      <td>Marco</td>\n",
              "      <td>Bruno</td>\n",
              "      <td>1.65</td>\n",
              "      <td>76</td>\n",
              "      <td>7.41</td>\n",
              "      <td>neri</td>\n",
              "    </tr>\n",
              "  </tbody>\n",
              "</table>\n",
              "</div>"
            ],
            "text/plain": [
              "          nome    cognome  altezza  eta  media_voti    occhi\n",
              "0   Alessandro      Rossi     1.82   80        8.09     neri\n",
              "1     Beatrice    Bianchi     1.65   68        6.49  azzurri\n",
              "2     Cristian    Ferrari     1.75   56        8.96  marroni\n",
              "3       Davide      Russo     1.78   60        7.71  azzurri\n",
              "4        Elena   Esposito     1.65   72        7.95  marroni\n",
              "5     Federico    Colombo     1.82   56        6.98  marroni\n",
              "6       Giulia      Conti     1.65   56        6.78    verdi\n",
              "7         Luca  Marchetti     1.75   76        8.82  marroni\n",
              "8      Martina    De Luca     1.78   72        7.37  marroni\n",
              "9       Nicola     Marino     1.65   72        6.23  marroni\n",
              "10     Roberta      Greco     1.82   68        6.93    verdi\n",
              "11     Stefano    Moretti     1.65   60        6.56     neri\n",
              "12   Valentina   Barbieri     1.75   64        9.89     neri\n",
              "13      Andrea    Fontana     1.78   60        6.48    verdi\n",
              "14      Chiara      Ricci     1.65   64        9.04    verdi\n",
              "15    Emanuele    Mariani     1.82   64        7.61     neri\n",
              "16   Francesca      Rizzo     1.65   56        8.73  azzurri\n",
              "17    Giovanni  De Santis     1.75   56        6.43    verdi\n",
              "18       Laura    Ferrara     1.78   76        9.87  marroni\n",
              "19       Marco      Bruno     1.65   76        7.41     neri"
            ]
          },
          "execution_count": 33,
          "metadata": {},
          "output_type": "execute_result"
        }
      ],
      "source": [
        "df"
      ]
    },
    {
      "cell_type": "markdown",
      "metadata": {},
      "source": [
        "Prova a modificare la colonna dell'età in modo da farla tornare come era all'inizio"
      ]
    },
    {
      "cell_type": "code",
      "execution_count": null,
      "metadata": {},
      "outputs": [],
      "source": [
        "# Scrivi qui sotto il codice per risolvere l'esercizio 4"
      ]
    },
    {
      "cell_type": "markdown",
      "metadata": {},
      "source": [
        "Cambia il cognome di Alessando Rossi in \"Silvestri\""
      ]
    },
    {
      "cell_type": "code",
      "execution_count": null,
      "metadata": {},
      "outputs": [],
      "source": [
        "# Scrivi qui sotto il codice per risolvere l'esercizio 5"
      ]
    },
    {
      "cell_type": "markdown",
      "metadata": {
        "id": "zT7Fk5fFj9_l"
      },
      "source": [
        "## Possiamo fare qualche grafico!"
      ]
    },
    {
      "cell_type": "markdown",
      "metadata": {
        "id": "AjyPhTMhj_g8"
      },
      "source": [
        "Importiamo la libreria per i grafici"
      ]
    },
    {
      "cell_type": "code",
      "execution_count": null,
      "metadata": {
        "id": "TIfrNnc5kAVN"
      },
      "outputs": [],
      "source": [
        "from matplotlib import pyplot as plt"
      ]
    },
    {
      "cell_type": "markdown",
      "metadata": {
        "id": "6PE6aQqfkBvx"
      },
      "source": [
        "### Facciamo un grafico a barre per vedere quali sono i voti dei ragazzi nella scuola"
      ]
    },
    {
      "cell_type": "markdown",
      "metadata": {
        "id": "YWLXhRpekDSr"
      },
      "source": [
        "Si usa la funzione plt.bar() che prende due argomenti. Il primo indica la lista dei nomi di cui vogliamo informazioni, la seconda la quantità di ciascuno (in questo caso il voto)"
      ]
    },
    {
      "cell_type": "code",
      "execution_count": null,
      "metadata": {
        "id": "h3t_Ri21kC55"
      },
      "outputs": [],
      "source": [
        "from matplotlib import pyplot as plt\n",
        "\n",
        "plt.figure(figsize=(20, 10))\n",
        "plt.bar(df[\"nome\"], df[\"media_voti\"])"
      ]
    },
    {
      "cell_type": "markdown",
      "metadata": {
        "id": "QBs4DJfQkGQm"
      },
      "source": [
        "### Aggiungiamo i nomi degli assi e il titoli"
      ]
    },
    {
      "cell_type": "code",
      "execution_count": null,
      "metadata": {
        "id": "SFAXmPWekHSh"
      },
      "outputs": [],
      "source": [
        "plt.figure(figsize=(20, 10))\n",
        "plt.bar(df[\"nome\"], df[\"media_voti\"])\n",
        "plt.title(\"Voti nella scuola\")\n",
        "plt.xlabel(\"Nome\")\n",
        "plt.ylabel(\"Media voti\")"
      ]
    },
    {
      "cell_type": "markdown",
      "metadata": {
        "id": "__nhO3BgkImn"
      },
      "source": [
        "### Facciamo anche un istogramma. Riesci a capire la differenza?"
      ]
    },
    {
      "cell_type": "code",
      "execution_count": null,
      "metadata": {
        "id": "ieuUJN34kJxI"
      },
      "outputs": [],
      "source": [
        "plt.figure(figsize=(8, 6))\n",
        "plt.hist(df[\"media_voti\"], bins=10)\n",
        "plt.title(\"Voti nella scuola\")\n",
        "plt.xlabel(\"Voti\")\n",
        "plt.ylabel(\"Numero di studenti\")"
      ]
    },
    {
      "cell_type": "markdown",
      "metadata": {
        "id": "CHz5rRADkLKm"
      },
      "source": [
        "### Prova a fare un grafico a barre e un istogramma dell'altezza delle persone"
      ]
    },
    {
      "cell_type": "code",
      "execution_count": null,
      "metadata": {
        "id": "dWWjtiD7kMUO"
      },
      "outputs": [],
      "source": [
        "# Scrivi qui sotto il codice per il diagramma"
      ]
    },
    {
      "cell_type": "code",
      "execution_count": null,
      "metadata": {
        "id": "BvxIFI6IkiLq"
      },
      "outputs": [],
      "source": [
        "# Scrivi qui sotto il codice per l'istogramma"
      ]
    }
  ],
  "metadata": {
    "colab": {
      "provenance": []
    },
    "kernelspec": {
      "display_name": "Python 3",
      "name": "python3"
    },
    "language_info": {
      "codemirror_mode": {
        "name": "ipython",
        "version": 3
      },
      "file_extension": ".py",
      "mimetype": "text/x-python",
      "name": "python",
      "nbconvert_exporter": "python",
      "pygments_lexer": "ipython3",
      "version": "3.10.9"
    }
  },
  "nbformat": 4,
  "nbformat_minor": 0
}
